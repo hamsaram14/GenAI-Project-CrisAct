{
 "cells": [
  {
   "cell_type": "code",
   "execution_count": 2,
   "id": "2156b929-4aad-43ea-b525-725164a0cd92",
   "metadata": {},
   "outputs": [
    {
     "name": "stdout",
     "output_type": "stream",
     "text": [
      "CUDA available: True\n"
     ]
    }
   ],
   "source": [
    "import torch\n",
    "import gc\n",
    "# Force garbage collection\n",
    "gc.collect()\n",
    "# Clear CUDA cache\n",
    "torch.cuda.empty_cache()\n",
    "\n",
    "# Check if CUDA is available\n",
    "print(f\"CUDA available: {torch.cuda.is_available()}\")"
   ]
  },
  {
   "cell_type": "code",
   "execution_count": 3,
   "id": "64ea0827-4850-4a6c-84fa-03bfd373d16a",
   "metadata": {},
   "outputs": [
    {
     "name": "stdout",
     "output_type": "stream",
     "text": [
      "Number of GPUs: 1\n",
      "GPU name: NVIDIA GeForce RTX 4090\n",
      "Current GPU: 0\n",
      "Allocated GPU memory: 0.00 MB\n",
      "Cached GPU memory: 0.00 MB\n",
      "Max allocated GPU memory: 0.00 MB\n"
     ]
    }
   ],
   "source": [
    "# Number of GPUs\n",
    "if torch.cuda.is_available():\n",
    "    print(f\"Number of GPUs: {torch.cuda.device_count()}\")\n",
    "    \n",
    "    # GPU name\n",
    "    print(f\"GPU name: {torch.cuda.get_device_name(0)}\")\n",
    "    \n",
    "    # Current GPU device\n",
    "    print(f\"Current GPU: {torch.cuda.current_device()}\")\n",
    "\n",
    "# Get current GPU memory usage\n",
    "if torch.cuda.is_available():\n",
    "    print(f\"Allocated GPU memory: {torch.cuda.memory_allocated(0) / 1024**2:.2f} MB\")\n",
    "    print(f\"Cached GPU memory: {torch.cuda.memory_reserved(0) / 1024**2:.2f} MB\")\n",
    "    \n",
    "    # Get maximum GPU memory usage\n",
    "    print(f\"Max allocated GPU memory: {torch.cuda.max_memory_allocated(0) / 1024**2:.2f} MB\")"
   ]
  },
  {
   "cell_type": "code",
   "execution_count": 1,
   "id": "675fe75e-8826-42a1-9dc9-0935db91e0cc",
   "metadata": {},
   "outputs": [
    {
     "name": "stderr",
     "output_type": "stream",
     "text": [
      "2025-04-28 16:59:14,914 - INFO - Initializing Emergency Response RAG system...\n",
      "2025-04-28 16:59:14,932 - INFO - Loaded FAISS index from document_faiss.index\n",
      "2025-04-28 16:59:14,999 - INFO - Loaded dataset from rest_dataset_with_document.csv with 18032 records\n",
      "2025-04-28 16:59:15,015 - INFO - Use pytorch device_name: cuda:0\n",
      "2025-04-28 16:59:15,016 - INFO - Load pretrained SentenceTransformer: all-mpnet-base-v2\n"
     ]
    },
    {
     "name": "stdout",
     "output_type": "stream",
     "text": [
      "Emergency Tweet Response System (RAG + LLaMA-2)\n",
      "Type 'exit' to quit.\n",
      "\n"
     ]
    },
    {
     "name": "stderr",
     "output_type": "stream",
     "text": [
      "2025-04-28 16:59:16,946 - INFO - Loaded embedding model: all-mpnet-base-v2\n"
     ]
    },
    {
     "data": {
      "application/vnd.jupyter.widget-view+json": {
       "model_id": "0c12be3ce4164b598a214650830f5366",
       "version_major": 2,
       "version_minor": 0
      },
      "text/plain": [
       "Loading checkpoint shards:   0%|          | 0/2 [00:00<?, ?it/s]"
      ]
     },
     "metadata": {},
     "output_type": "display_data"
    },
    {
     "name": "stderr",
     "output_type": "stream",
     "text": [
      "Device set to use cuda:0\n",
      "2025-04-28 16:59:25,026 - INFO - Loaded LLM: meta-llama/Llama-2-7b-chat-hf\n"
     ]
    },
    {
     "name": "stdin",
     "output_type": "stream",
     "text": [
      "Enter a new tweet:  testing bridges for safety after major hurricanes like irma\n"
     ]
    },
    {
     "name": "stderr",
     "output_type": "stream",
     "text": [
      "2025-04-28 16:59:51,786 - INFO - Cleaned tweet: testing bridges for safety after major hurricanes like irma\n"
     ]
    },
    {
     "data": {
      "application/vnd.jupyter.widget-view+json": {
       "model_id": "59d22be6c7d645a992d8b59b4cab5db3",
       "version_major": 2,
       "version_minor": 0
      },
      "text/plain": [
       "Batches:   0%|          | 0/1 [00:00<?, ?it/s]"
      ]
     },
     "metadata": {},
     "output_type": "display_data"
    },
    {
     "name": "stderr",
     "output_type": "stream",
     "text": [
      "2025-04-28 16:59:52,128 - INFO - Retrieved 3 documents\n",
      "Truncation was not explicitly activated but `max_length` is provided a specific value, please use `truncation=True` to explicitly truncate examples to max length. Defaulting to 'longest_first' truncation strategy. If you encode pairs of sequences (GLUE-style) with the tokenizer you can select this strategy more precisely by providing a specific strategy to `truncation`.\n",
      "Both `max_new_tokens` (=800) and `max_length`(=2048) seem to have been set. `max_new_tokens` will take precedence. Please refer to the documentation for more information. (https://huggingface.co/docs/transformers/main/en/main_classes/text_generation)\n",
      "C:\\Users\\TTB\\AppData\\Local\\Programs\\Python\\Python310\\lib\\site-packages\\transformers\\integrations\\sdpa_attention.py:54: UserWarning: 1Torch was not compiled with flash attention. (Triggered internally at ..\\aten\\src\\ATen\\native\\transformers\\cuda\\sdp_utils.cpp:263.)\n",
      "  attn_output = torch.nn.functional.scaled_dot_product_attention(\n"
     ]
    },
    {
     "name": "stdout",
     "output_type": "stream",
     "text": [
      "\n",
      "=== Emergency Response Analysis ===\n",
      "Tweet: testing bridges for safety after major hurricanes like irma\n",
      "\n",
      "Analysis:\n",
      "Disaster Type: hurricane\n",
      "Distress Level: not distress\n",
      "Location: Unknown\n",
      "Recommended Action: monitor only\n",
      "==================================================\n"
     ]
    },
    {
     "name": "stdin",
     "output_type": "stream",
     "text": [
      "Enter a new tweet:  in dominica hurricane maria killed 27 people and dozens are still missing\n"
     ]
    },
    {
     "name": "stderr",
     "output_type": "stream",
     "text": [
      "2025-04-28 17:02:24,048 - INFO - Cleaned tweet: in dominica hurricane maria killed 27 people and dozens are still missing\n"
     ]
    },
    {
     "data": {
      "application/vnd.jupyter.widget-view+json": {
       "model_id": "247d61a281604e0cb7675b919d1c30f3",
       "version_major": 2,
       "version_minor": 0
      },
      "text/plain": [
       "Batches:   0%|          | 0/1 [00:00<?, ?it/s]"
      ]
     },
     "metadata": {},
     "output_type": "display_data"
    },
    {
     "name": "stderr",
     "output_type": "stream",
     "text": [
      "2025-04-28 17:02:24,139 - INFO - Retrieved 3 documents\n",
      "Both `max_new_tokens` (=800) and `max_length`(=2048) seem to have been set. `max_new_tokens` will take precedence. Please refer to the documentation for more information. (https://huggingface.co/docs/transformers/main/en/main_classes/text_generation)\n"
     ]
    },
    {
     "name": "stdout",
     "output_type": "stream",
     "text": [
      "\n",
      "=== Emergency Response Analysis ===\n",
      "Tweet: in dominica hurricane maria killed 27 people and dozens are still missing\n",
      "\n",
      "Analysis:\n",
      "Disaster Type: Hurricane\n",
      "Distress Level: distress\n",
      "Location: dominica\n",
      "Recommended Action: evacuation\n",
      "==================================================\n"
     ]
    },
    {
     "name": "stdin",
     "output_type": "stream",
     "text": [
      "Enter a new tweet:  11 dead 100 injured wildfires ravage northern california with shocking speed\n"
     ]
    },
    {
     "name": "stderr",
     "output_type": "stream",
     "text": [
      "2025-04-28 17:05:19,458 - INFO - Cleaned tweet: 11 dead 100 injured wildfires ravage northern california with shocking speed\n"
     ]
    },
    {
     "data": {
      "application/vnd.jupyter.widget-view+json": {
       "model_id": "ec2ddecf161549ba8a65c6dde59f4373",
       "version_major": 2,
       "version_minor": 0
      },
      "text/plain": [
       "Batches:   0%|          | 0/1 [00:00<?, ?it/s]"
      ]
     },
     "metadata": {},
     "output_type": "display_data"
    },
    {
     "name": "stderr",
     "output_type": "stream",
     "text": [
      "2025-04-28 17:05:19,537 - INFO - Retrieved 3 documents\n",
      "Both `max_new_tokens` (=800) and `max_length`(=2048) seem to have been set. `max_new_tokens` will take precedence. Please refer to the documentation for more information. (https://huggingface.co/docs/transformers/main/en/main_classes/text_generation)\n"
     ]
    },
    {
     "name": "stdout",
     "output_type": "stream",
     "text": [
      "\n",
      "=== Emergency Response Analysis ===\n",
      "Tweet: 11 dead 100 injured wildfires ravage northern california with shocking speed\n",
      "\n",
      "Analysis:\n",
      "Disaster Type: wildfire\n",
      "Distress Level: distress\n",
      "Location: northern California\n",
      "Recommended Action: send medical team\n",
      "==================================================\n"
     ]
    },
    {
     "name": "stdin",
     "output_type": "stream",
     "text": [
      "Enter a new tweet:  labrador helping mexicos earthquake efforts earns presidential thanks\n"
     ]
    },
    {
     "name": "stderr",
     "output_type": "stream",
     "text": [
      "2025-04-28 17:08:07,400 - INFO - Cleaned tweet: labrador helping mexicos earthquake efforts earns presidential thanks\n"
     ]
    },
    {
     "data": {
      "application/vnd.jupyter.widget-view+json": {
       "model_id": "b961e9cfb47a4a4487e72b22e0374b86",
       "version_major": 2,
       "version_minor": 0
      },
      "text/plain": [
       "Batches:   0%|          | 0/1 [00:00<?, ?it/s]"
      ]
     },
     "metadata": {},
     "output_type": "display_data"
    },
    {
     "name": "stderr",
     "output_type": "stream",
     "text": [
      "2025-04-28 17:08:07,486 - INFO - Retrieved 3 documents\n",
      "Both `max_new_tokens` (=800) and `max_length`(=2048) seem to have been set. `max_new_tokens` will take precedence. Please refer to the documentation for more information. (https://huggingface.co/docs/transformers/main/en/main_classes/text_generation)\n"
     ]
    },
    {
     "name": "stdout",
     "output_type": "stream",
     "text": [
      "\n",
      "=== Emergency Response Analysis ===\n",
      "Tweet: labrador helping mexicos earthquake efforts earns presidential thanks\n",
      "\n",
      "Analysis:\n",
      "Disaster Type: earthquake\n",
      "Distress Level: distress\n",
      "Location: Mexico\n",
      "Recommended Action: monitor situation\n",
      "==================================================\n"
     ]
    },
    {
     "name": "stdin",
     "output_type": "stream",
     "text": [
      "Enter a new tweet:  exit\n"
     ]
    },
    {
     "name": "stdout",
     "output_type": "stream",
     "text": [
      "\n",
      "Emergency Response System shutdown complete.\n"
     ]
    }
   ],
   "source": [
    "# path: improved_rag_system.py\n",
    "\n",
    "import faiss\n",
    "import numpy as np\n",
    "import pandas as pd\n",
    "from sentence_transformers import SentenceTransformer\n",
    "from typing import List, Dict, Union, Any\n",
    "from transformers import pipeline\n",
    "import re\n",
    "import json\n",
    "import logging\n",
    "\n",
    "# Set up logging\n",
    "logging.basicConfig(level=logging.INFO, format='%(asctime)s - %(levelname)s - %(message)s')\n",
    "logger = logging.getLogger(__name__)\n",
    "\n",
    "class EmergencyResponseRAG:\n",
    "    def __init__(self, index_path=\"document_faiss.index\", dataset_path=\"rest_dataset_with_document.csv\", \n",
    "                 embedding_model_name='all-mpnet-base-v2', llm_model_name=\"meta-llama/Llama-2-7b-chat-hf\", \n",
    "                 device=0):\n",
    "        logger.info(\"Initializing Emergency Response RAG system...\")\n",
    "        \n",
    "        # 1. Load FAISS Index\n",
    "        self.index = faiss.read_index(index_path)\n",
    "        logger.info(f\"Loaded FAISS index from {index_path}\")\n",
    "        \n",
    "        # 2. Load Dataset\n",
    "        self.df = pd.read_csv(dataset_path)\n",
    "        logger.info(f\"Loaded dataset from {dataset_path} with {len(self.df)} records\")\n",
    "        \n",
    "        # 3. Load Embedding Model\n",
    "        self.embedding_model = SentenceTransformer(embedding_model_name)\n",
    "        logger.info(f\"Loaded embedding model: {embedding_model_name}\")\n",
    "        \n",
    "        # 4. Load LLM Model\n",
    "        self.llm_model_name = llm_model_name\n",
    "        self.llm_pipeline = pipeline(\n",
    "            \"text-generation\",\n",
    "            model=llm_model_name,\n",
    "            tokenizer=llm_model_name,\n",
    "            max_length=2048,\n",
    "            temperature=0.2,\n",
    "            device=device  # 0 for first GPU; use -1 if running on CPU\n",
    "        )\n",
    "        logger.info(f\"Loaded LLM: {llm_model_name}\")\n",
    "    \n",
    "    def clean_tweet(self, text: str) -> str:\n",
    "        \"\"\"Clean and normalize the text of a tweet\"\"\"\n",
    "        text = re.sub(r\"http\\S+|www\\S+|https\\S+\", '', text, flags=re.MULTILINE)\n",
    "        text = re.sub(r'\\@\\w+', '', text)\n",
    "        text = re.sub(r'#', '', text)\n",
    "        text = text.encode('ascii', 'ignore').decode('ascii')\n",
    "        text = text.lower()\n",
    "        text = re.sub(r'\\s+', ' ', text).strip()\n",
    "        return text\n",
    "    \n",
    "    def embed_text(self, text: str) -> np.ndarray:\n",
    "        \"\"\"Create an embedding for the input text\"\"\"\n",
    "        embedding = self.embedding_model.encode([text], convert_to_numpy=True)\n",
    "        return embedding\n",
    "    \n",
    "    def retrieve_documents(self, query: str, k: int = 3) -> List[str]:\n",
    "        \"\"\"Retrieve top-k relevant documents for the query\"\"\"\n",
    "        query_vector = self.embed_text(query)\n",
    "        distances, indices = self.index.search(query_vector, k)\n",
    "        \n",
    "        # Check if any valid indices were found\n",
    "        if len(indices[0]) == 0 or (indices[0][0] == -1):\n",
    "            logger.warning(\"No relevant documents found in the index\")\n",
    "            return [\"No relevant incident reports available.\"]\n",
    "            \n",
    "        retrieved_docs = self.df.iloc[indices[0]]['document'].tolist()\n",
    "        logger.info(f\"Retrieved {len(retrieved_docs)} documents\")\n",
    "        return retrieved_docs\n",
    "    \n",
    "    def build_combined_prompt(self, tweet_text: str, retrieved_docs: List[str]) -> str:\n",
    "        \"\"\"Build a prompt for LLaMA-2 that follows its expected format\"\"\"\n",
    "        prompt = \"\"\"<s>[INST] <<SYS>>\n",
    "You are an emergency response assistant that analyzes social media posts about disasters.\n",
    "<</SYS>>\n",
    "\n",
    "Given the following tweet and related incident reports, analyze the emergency situation and respond with a classification:\n",
    "\n",
    "Tweet:\n",
    "\"\"\" + tweet_text + \"\\n\\nRelated Incident Reports:\\n\"\n",
    "\n",
    "        for idx, doc in enumerate(retrieved_docs, 1):\n",
    "            prompt += f\"Incident {idx}: {doc}\\n\"\n",
    "\n",
    "        prompt += \"\"\"\n",
    "Analyze the tweet and determine:\n",
    "1. Disaster Type Classification: wildfire, earthquake, flood, hurricane, or other\n",
    "2. Distress Detection: 'distress' if someone needs urgent help, otherwise 'not distress'\n",
    "3. Location Extraction: most specific geographic location mentioned or 'unknown'\n",
    "4. Action Suggestion: evacuation, medical aid, fire suppression, rescue, resource delivery, or monitor only\n",
    "\n",
    "Return your analysis in this exact JSON format:\n",
    "{\n",
    "  \"disaster_type\": \"selected disaster type\",\n",
    "  \"distress\": \"distress or not distress\",\n",
    "  \"location_info\": \"location name or unknown\",\n",
    "  \"action\": \"selected action\"\n",
    "}\n",
    "[/INST]\"\"\"\n",
    "\n",
    "        return prompt\n",
    "    \n",
    "    def extract_json_from_response(self, response: str) -> Dict[str, Any]:\n",
    "        \"\"\"Extract and parse the JSON portion from the LLM response\"\"\"\n",
    "        # First try to find a well-formed JSON object using regex\n",
    "        json_pattern = r'{\\s*\"disaster_type\"\\s*:.*?\"action\"\\s*:.*?}'\n",
    "        json_match = re.search(json_pattern, response, re.DOTALL)\n",
    "        \n",
    "        if json_match:\n",
    "            try:\n",
    "                # Clean up the JSON string (remove any trailing commas)\n",
    "                json_str = re.sub(r',\\s*}', '}', json_match.group(0))\n",
    "                # Parse to ensure valid JSON\n",
    "                parsed_json = json.loads(json_str)\n",
    "                return parsed_json\n",
    "            except json.JSONDecodeError as e:\n",
    "                logger.error(f\"JSON parsing error: {e}\")\n",
    "                \n",
    "        # If regex approach failed, try a more flexible approach\n",
    "        try:\n",
    "            # Look for the beginning of json content\n",
    "            start_idx = response.find('{')\n",
    "            end_idx = response.rfind('}') + 1\n",
    "            \n",
    "            if start_idx != -1 and end_idx > start_idx:\n",
    "                json_str = response[start_idx:end_idx]\n",
    "                # Handle potential line breaks and formatting issues\n",
    "                json_str = re.sub(r'[\\n\\r\\t]', ' ', json_str)\n",
    "                json_str = re.sub(r',\\s*}', '}', json_str)\n",
    "                \n",
    "                return json.loads(json_str)\n",
    "        except (json.JSONDecodeError, ValueError) as e:\n",
    "            logger.error(f\"Secondary JSON parsing error: {e}\")\n",
    "        \n",
    "        # If all parsing attempts fail, return a structured error\n",
    "        logger.error(f\"Failed to extract JSON from response: {response[:100]}...\")\n",
    "        return {\n",
    "            \"error\": \"Could not parse response\",\n",
    "            \"disaster_type\": \"unknown\",\n",
    "            \"distress\": \"unknown\",\n",
    "            \"location_info\": \"unknown\",\n",
    "            \"action\": \"unknown\"\n",
    "        }\n",
    "    \n",
    "    def call_llm(self, prompt: str) -> Dict[str, Any]:\n",
    "        \"\"\"Call the LLM and parse its response to extract the JSON output\"\"\"\n",
    "        try:\n",
    "            outputs = self.llm_pipeline(prompt, max_new_tokens=800)\n",
    "            full_response = outputs[0]['generated_text']\n",
    "            \n",
    "            # Extract just the model's new response (after the prompt)\n",
    "            response = full_response[len(prompt):] if full_response.startswith(prompt) else full_response\n",
    "            \n",
    "            # Extract and parse the JSON\n",
    "            result = self.extract_json_from_response(response)\n",
    "            \n",
    "            # Validate expected fields\n",
    "            expected_fields = [\"disaster_type\", \"distress\", \"location_info\", \"action\"]\n",
    "            for field in expected_fields:\n",
    "                if field not in result:\n",
    "                    result[field] = \"unknown\"\n",
    "                    \n",
    "            return result\n",
    "            \n",
    "        except Exception as e:\n",
    "            logger.error(f\"Error calling LLM: {e}\")\n",
    "            return {\n",
    "                \"error\": str(e),\n",
    "                \"disaster_type\": \"unknown\",\n",
    "                \"distress\": \"unknown\",\n",
    "                \"location_info\": \"unknown\",\n",
    "                \"action\": \"unknown\"\n",
    "            }\n",
    "    \n",
    "    def process_tweet(self, tweet_text: str) -> Dict[str, Any]:\n",
    "        \"\"\"Process a tweet through the full RAG pipeline\"\"\"\n",
    "        try:\n",
    "            # 1. Clean the tweet\n",
    "            cleaned_tweet = self.clean_tweet(tweet_text)\n",
    "            logger.info(f\"Cleaned tweet: {cleaned_tweet}\")\n",
    "            \n",
    "            # 2. Retrieve relevant documents\n",
    "            retrieved_docs = self.retrieve_documents(cleaned_tweet, k=3)\n",
    "            \n",
    "            # 3. Build the prompt\n",
    "            prompt = self.build_combined_prompt(cleaned_tweet, retrieved_docs)\n",
    "            \n",
    "            # 4. Get LLM response\n",
    "            result = self.call_llm(prompt)\n",
    "            \n",
    "            # 5. Return the final result\n",
    "            return {\n",
    "                \"input_tweet\": tweet_text,\n",
    "                \"cleaned_tweet\": cleaned_tweet,\n",
    "                \"retrieved_docs\": retrieved_docs,\n",
    "                \"analysis\": result\n",
    "            }\n",
    "            \n",
    "        except Exception as e:\n",
    "            logger.error(f\"Error in RAG pipeline: {e}\")\n",
    "            return {\n",
    "                \"input_tweet\": tweet_text,\n",
    "                \"error\": str(e),\n",
    "                \"analysis\": {\n",
    "                    \"disaster_type\": \"unknown\",\n",
    "                    \"distress\": \"unknown\",\n",
    "                    \"location_info\": \"unknown\",\n",
    "                    \"action\": \"unknown\"\n",
    "                }\n",
    "            }\n",
    "\n",
    "# Main execution code\n",
    "if __name__ == \"__main__\":\n",
    "    print(\"Emergency Tweet Response System (RAG + LLaMA-2)\")\n",
    "    print(\"Type 'exit' to quit.\\n\")\n",
    "    \n",
    "    try:\n",
    "        # Initialize the RAG system\n",
    "        rag_system = EmergencyResponseRAG()\n",
    "        \n",
    "        while True:\n",
    "            incoming_tweet = input(\"Enter a new tweet: \")\n",
    "            if incoming_tweet.lower() == 'exit':\n",
    "                break\n",
    "                \n",
    "            # Process the tweet\n",
    "            result = rag_system.process_tweet(incoming_tweet)\n",
    "            \n",
    "            # Display the results\n",
    "            print(\"\\n=== Emergency Response Analysis ===\")\n",
    "            print(f\"Tweet: {result['input_tweet']}\")\n",
    "            print(\"\\nAnalysis:\")\n",
    "            \n",
    "            if \"error\" in result and \"error\" in result[\"analysis\"]:\n",
    "                print(f\"Error: {result['error']}\")\n",
    "            else:\n",
    "                analysis = result[\"analysis\"]\n",
    "                print(f\"Disaster Type: {analysis['disaster_type']}\")\n",
    "                print(f\"Distress Level: {analysis['distress']}\")\n",
    "                print(f\"Location: {analysis['location_info']}\")\n",
    "                print(f\"Recommended Action: {analysis['action']}\")\n",
    "                \n",
    "            print(\"=\" * 50)\n",
    "            \n",
    "    except KeyboardInterrupt:\n",
    "        print(\"\\nExiting the system...\")\n",
    "    except Exception as e:\n",
    "        print(f\"\\nAn error occurred: {e}\")\n",
    "    finally:\n",
    "        print(\"\\nEmergency Response System shutdown complete.\")"
   ]
  },
  {
   "cell_type": "code",
   "execution_count": null,
   "id": "14a42dea-3c23-4ee3-9bfc-3f1ee11035c6",
   "metadata": {},
   "outputs": [],
   "source": [
    "# evaluation"
   ]
  },
  {
   "cell_type": "code",
   "execution_count": 8,
   "id": "7017b9b1-0b7d-4861-adc4-996176ff064e",
   "metadata": {},
   "outputs": [
    {
     "name": "stdout",
     "output_type": "stream",
     "text": [
      "Requirement already satisfied: nltk in c:\\users\\ttb\\appdata\\local\\programs\\python\\python312\\lib\\site-packages (3.9.1)\n",
      "Requirement already satisfied: rouge-score in c:\\users\\ttb\\appdata\\local\\programs\\python\\python312\\lib\\site-packages (0.1.2)\n",
      "Requirement already satisfied: scikit-learn in c:\\users\\ttb\\appdata\\local\\programs\\python\\python312\\lib\\site-packages (1.6.1)\n",
      "Requirement already satisfied: click in c:\\users\\ttb\\appdata\\local\\programs\\python\\python312\\lib\\site-packages (from nltk) (8.1.8)\n",
      "Requirement already satisfied: joblib in c:\\users\\ttb\\appdata\\local\\programs\\python\\python312\\lib\\site-packages (from nltk) (1.4.2)\n",
      "Requirement already satisfied: regex>=2021.8.3 in c:\\users\\ttb\\appdata\\local\\programs\\python\\python312\\lib\\site-packages (from nltk) (2024.11.6)\n",
      "Requirement already satisfied: tqdm in c:\\users\\ttb\\appdata\\local\\programs\\python\\python312\\lib\\site-packages (from nltk) (4.67.1)\n",
      "Requirement already satisfied: absl-py in c:\\users\\ttb\\appdata\\local\\programs\\python\\python312\\lib\\site-packages (from rouge-score) (2.1.0)\n",
      "Requirement already satisfied: numpy in c:\\users\\ttb\\appdata\\local\\programs\\python\\python312\\lib\\site-packages (from rouge-score) (1.26.4)\n",
      "Requirement already satisfied: six>=1.14.0 in c:\\users\\ttb\\appdata\\local\\programs\\python\\python312\\lib\\site-packages (from rouge-score) (1.16.0)\n",
      "Requirement already satisfied: scipy>=1.6.0 in c:\\users\\ttb\\appdata\\local\\programs\\python\\python312\\lib\\site-packages (from scikit-learn) (1.15.2)\n",
      "Requirement already satisfied: threadpoolctl>=3.1.0 in c:\\users\\ttb\\appdata\\local\\programs\\python\\python312\\lib\\site-packages (from scikit-learn) (3.5.0)\n",
      "Requirement already satisfied: colorama in c:\\users\\ttb\\appdata\\local\\programs\\python\\python312\\lib\\site-packages (from click->nltk) (0.4.6)\n"
     ]
    },
    {
     "name": "stderr",
     "output_type": "stream",
     "text": [
      "WARNING: Ignoring invalid distribution ~uggingface-hub (C:\\Users\\TTB\\AppData\\Local\\Programs\\Python\\Python312\\Lib\\site-packages)\n",
      "WARNING: Ignoring invalid distribution ~upyterlab (C:\\Users\\TTB\\AppData\\Local\\Programs\\Python\\Python312\\Lib\\site-packages)\n",
      "WARNING: Ignoring invalid distribution ~uggingface-hub (C:\\Users\\TTB\\AppData\\Local\\Programs\\Python\\Python312\\Lib\\site-packages)\n",
      "WARNING: Ignoring invalid distribution ~upyterlab (C:\\Users\\TTB\\AppData\\Local\\Programs\\Python\\Python312\\Lib\\site-packages)\n",
      "WARNING: Ignoring invalid distribution ~uggingface-hub (C:\\Users\\TTB\\AppData\\Local\\Programs\\Python\\Python312\\Lib\\site-packages)\n",
      "WARNING: Ignoring invalid distribution ~upyterlab (C:\\Users\\TTB\\AppData\\Local\\Programs\\Python\\Python312\\Lib\\site-packages)\n"
     ]
    }
   ],
   "source": [
    "# !pip install nltk rouge-score scikit-learn"
   ]
  },
  {
   "cell_type": "code",
   "execution_count": 9,
   "id": "f5179606-f5fc-4b1b-a911-718dc4b39fde",
   "metadata": {},
   "outputs": [
    {
     "name": "stderr",
     "output_type": "stream",
     "text": [
      "2025-04-27 16:34:12,427 - INFO - Using default tokenizer.\n"
     ]
    },
    {
     "data": {
      "text/plain": [
       "'\\n# Install required packages if not already installed\\n!pip install nltk rouge-score scikit-learn\\n\\n# Import nltk data\\nimport nltk\\nnltk.download(\\'punkt\\')\\n\\n# Initialize your RAG system (assuming it\\'s already defined in a previous cell)\\nrag_system = EmergencyResponseRAG()\\n\\n# Create evaluator\\nevaluator = RAGEvaluator(\\n    sample_dataset_path=\"sample_dataset_balanced.csv\",\\n    rag_system=rag_system,\\n    output_path=\"evaluation_results.csv\"\\n)\\n\\n# Run evaluation (this might take some time depending on the size of your dataset)\\nresults_df = evaluator.evaluate_all_samples()\\n\\n# Get metrics\\nmetrics = evaluator.aggregate_metrics\\n\\n# Visualize results\\nvisualize_results(results_df, metrics)\\n'"
      ]
     },
     "execution_count": 9,
     "metadata": {},
     "output_type": "execute_result"
    }
   ],
   "source": [
    "# Import required libraries\n",
    "import pandas as pd\n",
    "import numpy as np\n",
    "from nltk.translate.bleu_score import sentence_bleu, SmoothingFunction\n",
    "# Using rouge-score instead of rouge\n",
    "from rouge_score import rouge_scorer\n",
    "import json\n",
    "import logging\n",
    "import time\n",
    "from typing import Dict, List, Any\n",
    "import math\n",
    "import matplotlib.pyplot as plt\n",
    "import seaborn as sns\n",
    "from sklearn.metrics import confusion_matrix, classification_report\n",
    "\n",
    "# Set up logging\n",
    "logging.basicConfig(level=logging.INFO, format='%(asctime)s - %(levelname)s - %(message)s')\n",
    "logger = logging.getLogger(__name__)\n",
    "\n",
    "# Initialize Rouge scorer\n",
    "scorer = rouge_scorer.RougeScorer(['rouge1', 'rouge2', 'rougeL'], use_stemmer=True)\n",
    "\n",
    "# Define the evaluator class\n",
    "class RAGEvaluator:\n",
    "    def __init__(self, sample_dataset_path=\"sample_dataset_balanced.csv\", \n",
    "                 rag_system=None, output_path=\"evaluation_results.csv\"):\n",
    "        \"\"\"Initialize the evaluator with dataset and RAG system\"\"\"\n",
    "        self.sample_df = pd.read_csv(sample_dataset_path)\n",
    "        logger.info(f\"Loaded sample dataset from {sample_dataset_path} with {len(self.sample_df)} samples\")\n",
    "        \n",
    "        # Initialize RAG system if not provided\n",
    "        self.rag_system = rag_system\n",
    "        self.output_path = output_path\n",
    "        self.scorer = rouge_scorer.RougeScorer(['rouge1', 'rouge2', 'rougeL'], use_stemmer=True)\n",
    "        self.smoothing = SmoothingFunction().method1\n",
    "        self.results = []\n",
    "        \n",
    "    def calculate_bleu(self, reference: str, hypothesis: str) -> float:\n",
    "        \"\"\"Calculate BLEU score between reference and hypothesis\"\"\"\n",
    "        if not reference or not hypothesis:\n",
    "            return 0.0\n",
    "            \n",
    "        reference_tokens = reference.lower().split()\n",
    "        hypothesis_tokens = hypothesis.lower().split()\n",
    "        \n",
    "        # BLEU requires a list of references\n",
    "        return sentence_bleu([reference_tokens], hypothesis_tokens, \n",
    "                            smoothing_function=self.smoothing)\n",
    "    \n",
    "    def calculate_rouge(self, reference: str, hypothesis: str) -> Dict[str, Dict[str, float]]:\n",
    "        \"\"\"Calculate ROUGE scores between reference and hypothesis using rouge-score\"\"\"\n",
    "        if not reference or not hypothesis:\n",
    "            return {\n",
    "                'rouge1': {'precision': 0.0, 'recall': 0.0, 'fmeasure': 0.0},\n",
    "                'rouge2': {'precision': 0.0, 'recall': 0.0, 'fmeasure': 0.0},\n",
    "                'rougeL': {'precision': 0.0, 'recall': 0.0, 'fmeasure': 0.0}\n",
    "            }\n",
    "            \n",
    "        try:\n",
    "            # Rouge requires non-empty strings\n",
    "            if len(reference.strip()) == 0 or len(hypothesis.strip()) == 0:\n",
    "                return {\n",
    "                    'rouge1': {'precision': 0.0, 'recall': 0.0, 'fmeasure': 0.0},\n",
    "                    'rouge2': {'precision': 0.0, 'recall': 0.0, 'fmeasure': 0.0},\n",
    "                    'rougeL': {'precision': 0.0, 'recall': 0.0, 'fmeasure': 0.0}\n",
    "                }\n",
    "                \n",
    "            scores = self.scorer.score(reference, hypothesis)\n",
    "            \n",
    "            # Convert the object to a dict with the format expected\n",
    "            result = {}\n",
    "            for key, value in scores.items():\n",
    "                result[key] = {\n",
    "                    'precision': value.precision,\n",
    "                    'recall': value.recall,\n",
    "                    'fmeasure': value.fmeasure\n",
    "                }\n",
    "                \n",
    "            return result\n",
    "        except Exception as e:\n",
    "            logger.error(f\"Error calculating ROUGE: {e}\")\n",
    "            return {\n",
    "                'rouge1': {'precision': 0.0, 'recall': 0.0, 'fmeasure': 0.0},\n",
    "                'rouge2': {'precision': 0.0, 'recall': 0.0, 'fmeasure': 0.0},\n",
    "                'rougeL': {'precision': 0.0, 'recall': 0.0, 'fmeasure': 0.0}\n",
    "            }\n",
    "    \n",
    "    def calculate_perplexity(self, prob_values: List[float]) -> float:\n",
    "        \"\"\"Calculate perplexity from probability values\"\"\"\n",
    "        if not prob_values or min(prob_values) <= 0:\n",
    "            return float('inf')\n",
    "            \n",
    "        # Perplexity = 2^(-average log likelihood)\n",
    "        avg_log_likelihood = np.mean([math.log2(p) for p in prob_values if p > 0])\n",
    "        return 2 ** (-avg_log_likelihood)\n",
    "    \n",
    "    def calculate_exact_match(self, reference: str, hypothesis: str) -> float:\n",
    "        \"\"\"Calculate exact match score (1.0 if exact match, 0.0 otherwise)\"\"\"\n",
    "        return 1.0 if reference.lower().strip() == hypothesis.lower().strip() else 0.0\n",
    "        \n",
    "    def evaluate_sample(self, row: pd.Series) -> Dict[str, Any]:\n",
    "        \"\"\"Evaluate a single sample from the dataset\"\"\"\n",
    "        tweet_text = row['tweet_text']\n",
    "        \n",
    "        # Ground truth values\n",
    "        gt_disaster_type = str(row['disaster_type']).lower() if not pd.isna(row['disaster_type']) else \"unknown\"\n",
    "        gt_distress = \"distress\" if row['distress'] == 1 else \"not distress\"\n",
    "        gt_location = str(row['state']).lower() if not pd.isna(row['state']) else \"unknown\"\n",
    "        if not pd.isna(row['sub_location']) and str(row['sub_location']).strip():\n",
    "            gt_location += f\" ({str(row['sub_location']).lower()})\"\n",
    "        gt_action = str(row['take_action']).lower() if not pd.isna(row['take_action']) else \"unknown\"\n",
    "        \n",
    "        # Get RAG system prediction\n",
    "        start_time = time.time()\n",
    "        prediction = self.rag_system.process_tweet(tweet_text)\n",
    "        processing_time = time.time() - start_time\n",
    "        \n",
    "        pred_analysis = prediction['analysis']\n",
    "        pred_disaster_type = str(pred_analysis['disaster_type']).lower()\n",
    "        pred_distress = str(pred_analysis['distress']).lower()\n",
    "        pred_location = str(pred_analysis['location_info']).lower()\n",
    "        pred_action = str(pred_analysis['action']).lower()\n",
    "        \n",
    "        # Calculate metrics for each field\n",
    "        disaster_type_bleu = self.calculate_bleu(gt_disaster_type, pred_disaster_type)\n",
    "        disaster_type_exact = self.calculate_exact_match(gt_disaster_type, pred_disaster_type)\n",
    "        \n",
    "        distress_bleu = self.calculate_bleu(gt_distress, pred_distress)\n",
    "        distress_exact = self.calculate_exact_match(gt_distress, pred_distress)\n",
    "        \n",
    "        location_bleu = self.calculate_bleu(gt_location, pred_location)\n",
    "        location_rouge = self.calculate_rouge(gt_location, pred_location)\n",
    "        \n",
    "        action_bleu = self.calculate_bleu(gt_action, pred_action)\n",
    "        action_rouge = self.calculate_rouge(gt_action, pred_action)\n",
    "        \n",
    "        # Combine all results\n",
    "        result = {\n",
    "            'tweet_id': row['tweet_id'] if 'tweet_id' in row else 'unknown',\n",
    "            'tweet_text': tweet_text,\n",
    "            'gt_disaster_type': gt_disaster_type,\n",
    "            'pred_disaster_type': pred_disaster_type,\n",
    "            'disaster_type_bleu': disaster_type_bleu,\n",
    "            'disaster_type_exact': disaster_type_exact,\n",
    "            \n",
    "            'gt_distress': gt_distress,\n",
    "            'pred_distress': pred_distress,\n",
    "            'distress_bleu': distress_bleu,\n",
    "            'distress_exact': distress_exact,\n",
    "            \n",
    "            'gt_location': gt_location,\n",
    "            'pred_location': pred_location,\n",
    "            'location_bleu': location_bleu,\n",
    "            'location_rouge_1': location_rouge['rouge1']['fmeasure'],\n",
    "            'location_rouge_2': location_rouge['rouge2']['fmeasure'],\n",
    "            'location_rouge_l': location_rouge['rougeL']['fmeasure'],\n",
    "            \n",
    "            'gt_action': gt_action,\n",
    "            'pred_action': pred_action,\n",
    "            'action_bleu': action_bleu,\n",
    "            'action_rouge_1': action_rouge['rouge1']['fmeasure'],\n",
    "            'action_rouge_2': action_rouge['rouge2']['fmeasure'],\n",
    "            'action_rouge_l': action_rouge['rougeL']['fmeasure'],\n",
    "            \n",
    "            'processing_time': processing_time,\n",
    "            'retrieved_docs': prediction['retrieved_docs']\n",
    "        }\n",
    "        \n",
    "        return result\n",
    "        \n",
    "    def evaluate_all_samples(self):\n",
    "        \"\"\"Evaluate all samples in the dataset\"\"\"\n",
    "        logger.info(f\"Starting evaluation of {len(self.sample_df)} samples...\")\n",
    "        \n",
    "        for i, row in self.sample_df.iterrows():\n",
    "            try:\n",
    "                result = self.evaluate_sample(row)\n",
    "                self.results.append(result)\n",
    "                \n",
    "                # Log progress periodically\n",
    "                if (i + 1) % 5 == 0:\n",
    "                    logger.info(f\"Processed {i + 1}/{len(self.sample_df)} samples\")\n",
    "                    \n",
    "            except Exception as e:\n",
    "                logger.error(f\"Error processing sample {i}: {e}\")\n",
    "                \n",
    "        # Calculate aggregate metrics\n",
    "        self.calculate_aggregate_metrics()\n",
    "        \n",
    "        # Save results\n",
    "        self.save_results()\n",
    "        \n",
    "        return pd.DataFrame(self.results)\n",
    "        \n",
    "    def calculate_aggregate_metrics(self):\n",
    "        \"\"\"Calculate aggregate metrics across all samples\"\"\"\n",
    "        if not self.results:\n",
    "            logger.warning(\"No results to aggregate\")\n",
    "            return\n",
    "            \n",
    "        results_df = pd.DataFrame(self.results)\n",
    "        \n",
    "        # Exact match accuracy\n",
    "        disaster_type_accuracy = results_df['disaster_type_exact'].mean()\n",
    "        distress_accuracy = results_df['distress_exact'].mean()\n",
    "        \n",
    "        # Average BLEU scores\n",
    "        avg_disaster_type_bleu = results_df['disaster_type_bleu'].mean()\n",
    "        avg_distress_bleu = results_df['distress_bleu'].mean()\n",
    "        avg_location_bleu = results_df['location_bleu'].mean()\n",
    "        avg_action_bleu = results_df['action_bleu'].mean()\n",
    "        \n",
    "        # Average ROUGE scores\n",
    "        avg_location_rouge_1 = results_df['location_rouge_1'].mean()\n",
    "        avg_location_rouge_l = results_df['location_rouge_l'].mean()\n",
    "        avg_action_rouge_1 = results_df['action_rouge_1'].mean()\n",
    "        avg_action_rouge_l = results_df['action_rouge_l'].mean()\n",
    "        \n",
    "        # Average processing time\n",
    "        avg_processing_time = results_df['processing_time'].mean()\n",
    "        \n",
    "        # Log aggregate metrics\n",
    "        logger.info(\"\\n===== Aggregate Metrics =====\")\n",
    "        logger.info(f\"Disaster Type Accuracy: {disaster_type_accuracy:.4f}\")\n",
    "        logger.info(f\"Distress Detection Accuracy: {distress_accuracy:.4f}\")\n",
    "        logger.info(f\"Average BLEU Scores - Disaster Type: {avg_disaster_type_bleu:.4f}, Distress: {avg_distress_bleu:.4f}, Location: {avg_location_bleu:.4f}, Action: {avg_action_bleu:.4f}\")\n",
    "        logger.info(f\"Average ROUGE-1 Scores - Location: {avg_location_rouge_1:.4f}, Action: {avg_action_rouge_1:.4f}\")\n",
    "        logger.info(f\"Average ROUGE-L Scores - Location: {avg_location_rouge_l:.4f}, Action: {avg_action_rouge_l:.4f}\")\n",
    "        logger.info(f\"Average Processing Time: {avg_processing_time:.2f} seconds\")\n",
    "        \n",
    "        # Save aggregate metrics\n",
    "        self.aggregate_metrics = {\n",
    "            'disaster_type_accuracy': disaster_type_accuracy,\n",
    "            'distress_accuracy': distress_accuracy,\n",
    "            'avg_disaster_type_bleu': avg_disaster_type_bleu,\n",
    "            'avg_distress_bleu': avg_distress_bleu,\n",
    "            'avg_location_bleu': avg_location_bleu,\n",
    "            'avg_action_bleu': avg_action_bleu,\n",
    "            'avg_location_rouge_1': avg_location_rouge_1,\n",
    "            'avg_location_rouge_l': avg_location_rouge_l,\n",
    "            'avg_action_rouge_1': avg_action_rouge_1,\n",
    "            'avg_action_rouge_l': avg_action_rouge_l,\n",
    "            'avg_processing_time': avg_processing_time\n",
    "        }\n",
    "        \n",
    "        return self.aggregate_metrics\n",
    "        \n",
    "    def save_results(self):\n",
    "        \"\"\"Save evaluation results to CSV and JSON\"\"\"\n",
    "        if not self.results:\n",
    "            logger.warning(\"No results to save\")\n",
    "            return\n",
    "            \n",
    "        # Save detailed results\n",
    "        results_df = pd.DataFrame(self.results)\n",
    "        results_df.to_csv(self.output_path, index=False)\n",
    "        logger.info(f\"Saved detailed results to {self.output_path}\")\n",
    "        \n",
    "        # Save aggregate metrics\n",
    "        if hasattr(self, 'aggregate_metrics'):\n",
    "            metrics_df = pd.DataFrame([self.aggregate_metrics])\n",
    "            metrics_path = self.output_path.replace('.csv', '_metrics.csv')\n",
    "            metrics_df.to_csv(metrics_path, index=False)\n",
    "            logger.info(f\"Saved aggregate metrics to {metrics_path}\")\n",
    "            \n",
    "            # Also save as JSON for easier reading\n",
    "            metrics_json_path = self.output_path.replace('.csv', '_metrics.json')\n",
    "            with open(metrics_json_path, 'w') as f:\n",
    "                json.dump(self.aggregate_metrics, f, indent=4)\n",
    "            logger.info(f\"Saved aggregate metrics to {metrics_json_path}\")\n",
    "\n",
    "# Function to visualize results\n",
    "def visualize_results(results_df, metrics):\n",
    "    \"\"\"Generate visualizations for evaluation results\"\"\"\n",
    "    # 1. Plot accuracy metrics\n",
    "    plt.figure(figsize=(10, 6))\n",
    "    metrics_to_plot = [\n",
    "        ('disaster_type_accuracy', 'Disaster Type'),\n",
    "        ('distress_accuracy', 'Distress Detection')\n",
    "    ]\n",
    "    \n",
    "    values = [metrics[key] for key, _ in metrics_to_plot]\n",
    "    labels = [label for _, label in metrics_to_plot]\n",
    "    \n",
    "    bars = plt.bar(labels, values, color=['#3498db', '#2ecc71'])\n",
    "    plt.ylim(0, 1.0)\n",
    "    plt.title('Exact Match Accuracy', fontsize=14)\n",
    "    plt.ylabel('Accuracy')\n",
    "    plt.grid(axis='y', linestyle='--', alpha=0.7)\n",
    "    \n",
    "    # Add value labels on bars\n",
    "    for bar in bars:\n",
    "        height = bar.get_height()\n",
    "        plt.text(bar.get_x() + bar.get_width()/2., height + 0.01,\n",
    "                f'{height:.2f}', ha='center', fontsize=12)\n",
    "    \n",
    "    plt.tight_layout()\n",
    "    plt.show()\n",
    "    \n",
    "    # 2. Plot BLEU scores\n",
    "    plt.figure(figsize=(12, 6))\n",
    "    metrics_to_plot = [\n",
    "        ('avg_disaster_type_bleu', 'Disaster Type'),\n",
    "        ('avg_distress_bleu', 'Distress'),\n",
    "        ('avg_location_bleu', 'Location'),\n",
    "        ('avg_action_bleu', 'Action')\n",
    "    ]\n",
    "    \n",
    "    values = [metrics[key] for key, _ in metrics_to_plot]\n",
    "    labels = [label for _, label in metrics_to_plot]\n",
    "    \n",
    "    bars = plt.bar(labels, values, color=['#3498db', '#2ecc71', '#e74c3c', '#f39c12'])\n",
    "    plt.ylim(0, max(values) * 1.2)  # Adjust y-limit based on max value\n",
    "    plt.title('Average BLEU Scores by Field', fontsize=14)\n",
    "    plt.ylabel('BLEU Score')\n",
    "    plt.grid(axis='y', linestyle='--', alpha=0.7)\n",
    "    \n",
    "    # Add value labels on bars\n",
    "    for bar in bars:\n",
    "        height = bar.get_height()\n",
    "        plt.text(bar.get_x() + bar.get_width()/2., height + 0.01,\n",
    "                f'{height:.3f}', ha='center', fontsize=12)\n",
    "    \n",
    "    plt.tight_layout()\n",
    "    plt.show()\n",
    "    \n",
    "    # 3. Plot ROUGE scores\n",
    "    plt.figure(figsize=(12, 6))\n",
    "    \n",
    "    # Create data for grouped bar chart\n",
    "    labels = ['Location', 'Action']\n",
    "    rouge_1_values = [metrics['avg_location_rouge_1'], metrics['avg_action_rouge_1']]\n",
    "    rouge_l_values = [metrics['avg_location_rouge_l'], metrics['avg_action_rouge_l']]\n",
    "    \n",
    "    x = np.arange(len(labels))\n",
    "    width = 0.35\n",
    "    \n",
    "    fig, ax = plt.subplots(figsize=(10, 6))\n",
    "    rects1 = ax.bar(x - width/2, rouge_1_values, width, label='ROUGE-1', color='#3498db')\n",
    "    rects2 = ax.bar(x + width/2, rouge_l_values, width, label='ROUGE-L', color='#e74c3c')\n",
    "    \n",
    "    ax.set_title('ROUGE Scores by Field', fontsize=14)\n",
    "    ax.set_ylabel('ROUGE Score')\n",
    "    ax.set_xticks(x)\n",
    "    ax.set_xticklabels(labels)\n",
    "    ax.legend()\n",
    "    ax.grid(axis='y', linestyle='--', alpha=0.7)\n",
    "    \n",
    "    # Add value labels\n",
    "    def add_labels(rects):\n",
    "        for rect in rects:\n",
    "            height = rect.get_height()\n",
    "            ax.annotate(f'{height:.3f}',\n",
    "                        xy=(rect.get_x() + rect.get_width() / 2, height),\n",
    "                        xytext=(0, 3),  # 3 points vertical offset\n",
    "                        textcoords=\"offset points\",\n",
    "                        ha='center', va='bottom', fontsize=10)\n",
    "    \n",
    "    add_labels(rects1)\n",
    "    add_labels(rects2)\n",
    "    \n",
    "    fig.tight_layout()\n",
    "    plt.show()\n",
    "    \n",
    "    # 4. Plot confusion matrices\n",
    "    # Disaster Type Confusion Matrix\n",
    "    unique_disaster_types = sorted(list(set(\n",
    "        results_df['gt_disaster_type'].dropna().unique().tolist() + \n",
    "        results_df['pred_disaster_type'].dropna().unique().tolist()\n",
    "    )))\n",
    "    \n",
    "    disaster_type_cm = confusion_matrix(\n",
    "        results_df['gt_disaster_type'], \n",
    "        results_df['pred_disaster_type'],\n",
    "        labels=unique_disaster_types\n",
    "    )\n",
    "    \n",
    "    plt.figure(figsize=(10, 8))\n",
    "    sns.heatmap(disaster_type_cm, annot=True, fmt='d', cmap='Blues',\n",
    "                xticklabels=unique_disaster_types, yticklabels=unique_disaster_types)\n",
    "    plt.title('Disaster Type Confusion Matrix', fontsize=14)\n",
    "    plt.xlabel('Predicted')\n",
    "    plt.ylabel('Ground Truth')\n",
    "    plt.tight_layout()\n",
    "    plt.show()\n",
    "    \n",
    "    # Distress Detection Confusion Matrix\n",
    "    unique_distress = sorted(list(set(\n",
    "        results_df['gt_distress'].dropna().unique().tolist() + \n",
    "        results_df['pred_distress'].dropna().unique().tolist()\n",
    "    )))\n",
    "    \n",
    "    distress_cm = confusion_matrix(\n",
    "        results_df['gt_distress'], \n",
    "        results_df['pred_distress'],\n",
    "        labels=unique_distress\n",
    "    )\n",
    "    \n",
    "    plt.figure(figsize=(8, 6))\n",
    "    sns.heatmap(distress_cm, annot=True, fmt='d', cmap='Greens',\n",
    "                xticklabels=unique_distress, yticklabels=unique_distress)\n",
    "    plt.title('Distress Detection Confusion Matrix', fontsize=14)\n",
    "    plt.xlabel('Predicted')\n",
    "    plt.ylabel('Ground Truth')\n",
    "    plt.tight_layout()\n",
    "    plt.show()\n",
    "    \n",
    "    # Classification Reports\n",
    "    print(\"\\nDisaster Type Classification Report:\")\n",
    "    print(classification_report(results_df['gt_disaster_type'], results_df['pred_disaster_type']))\n",
    "    \n",
    "    print(\"\\nDistress Detection Classification Report:\")\n",
    "    print(classification_report(results_df['gt_distress'], results_df['pred_distress']))\n"
   ]
  },
  {
   "cell_type": "code",
   "execution_count": null,
   "id": "561b1d41-451b-418e-8a29-a908682c9009",
   "metadata": {},
   "outputs": [],
   "source": []
  },
  {
   "cell_type": "code",
   "execution_count": 10,
   "id": "e1165bb8-d402-45d1-8620-d1fda6142baf",
   "metadata": {},
   "outputs": [
    {
     "name": "stderr",
     "output_type": "stream",
     "text": [
      "2025-04-27 16:34:17,071 - INFO - Loaded sample dataset from sample_dataset_balanced.csv with 50 samples\n",
      "2025-04-27 16:34:17,071 - INFO - Using default tokenizer.\n",
      "2025-04-27 16:34:17,071 - INFO - Starting evaluation of 50 samples...\n",
      "2025-04-27 16:34:17,071 - INFO - Cleaned tweet: testing bridges for safety after major hurricanes like irma\n"
     ]
    },
    {
     "data": {
      "application/vnd.jupyter.widget-view+json": {
       "model_id": "5360be0bae3a4b64b76f228ef14fccbd",
       "version_major": 2,
       "version_minor": 0
      },
      "text/plain": [
       "Batches:   0%|          | 0/1 [00:00<?, ?it/s]"
      ]
     },
     "metadata": {},
     "output_type": "display_data"
    },
    {
     "name": "stderr",
     "output_type": "stream",
     "text": [
      "2025-04-27 16:34:17,152 - INFO - Retrieved 3 documents\n",
      "Both `max_new_tokens` (=800) and `max_length`(=2048) seem to have been set. `max_new_tokens` will take precedence. Please refer to the documentation for more information. (https://huggingface.co/docs/transformers/main/en/main_classes/text_generation)\n",
      "2025-04-27 16:37:29,728 - INFO - Cleaned tweet: why a navy hospital ship in puerto rico has hardly been used daily news\n"
     ]
    },
    {
     "data": {
      "application/vnd.jupyter.widget-view+json": {
       "model_id": "c6040846fc674149beda57720f22e688",
       "version_major": 2,
       "version_minor": 0
      },
      "text/plain": [
       "Batches:   0%|          | 0/1 [00:00<?, ?it/s]"
      ]
     },
     "metadata": {},
     "output_type": "display_data"
    },
    {
     "name": "stderr",
     "output_type": "stream",
     "text": [
      "2025-04-27 16:37:29,750 - INFO - Retrieved 3 documents\n",
      "Both `max_new_tokens` (=800) and `max_length`(=2048) seem to have been set. `max_new_tokens` will take precedence. Please refer to the documentation for more information. (https://huggingface.co/docs/transformers/main/en/main_classes/text_generation)\n",
      "2025-04-27 16:43:16,793 - INFO - Cleaned tweet: hurricane maria the aftermath st croix usvi\n"
     ]
    },
    {
     "data": {
      "application/vnd.jupyter.widget-view+json": {
       "model_id": "3f47720319cf4234bdb93a44e340c8db",
       "version_major": 2,
       "version_minor": 0
      },
      "text/plain": [
       "Batches:   0%|          | 0/1 [00:00<?, ?it/s]"
      ]
     },
     "metadata": {},
     "output_type": "display_data"
    },
    {
     "name": "stderr",
     "output_type": "stream",
     "text": [
      "2025-04-27 16:43:16,806 - INFO - Retrieved 3 documents\n",
      "Both `max_new_tokens` (=800) and `max_length`(=2048) seem to have been set. `max_new_tokens` will take precedence. Please refer to the documentation for more information. (https://huggingface.co/docs/transformers/main/en/main_classes/text_generation)\n",
      "2025-04-27 16:48:58,397 - INFO - Cleaned tweet: on wul helping those affected by harvey via a very special facebook group\n"
     ]
    },
    {
     "data": {
      "application/vnd.jupyter.widget-view+json": {
       "model_id": "d896488b73f4439c992f8246fe1b9a1a",
       "version_major": 2,
       "version_minor": 0
      },
      "text/plain": [
       "Batches:   0%|          | 0/1 [00:00<?, ?it/s]"
      ]
     },
     "metadata": {},
     "output_type": "display_data"
    },
    {
     "name": "stderr",
     "output_type": "stream",
     "text": [
      "2025-04-27 16:48:58,414 - INFO - Retrieved 3 documents\n",
      "Both `max_new_tokens` (=800) and `max_length`(=2048) seem to have been set. `max_new_tokens` will take precedence. Please refer to the documentation for more information. (https://huggingface.co/docs/transformers/main/en/main_classes/text_generation)\n",
      "2025-04-27 16:51:55,634 - INFO - Cleaned tweet: hurricane maria path update shock spaghetti model warning usa must watch out\n"
     ]
    },
    {
     "data": {
      "application/vnd.jupyter.widget-view+json": {
       "model_id": "d4963ad70a164814a8cd4ce3e3c29caf",
       "version_major": 2,
       "version_minor": 0
      },
      "text/plain": [
       "Batches:   0%|          | 0/1 [00:00<?, ?it/s]"
      ]
     },
     "metadata": {},
     "output_type": "display_data"
    },
    {
     "name": "stderr",
     "output_type": "stream",
     "text": [
      "2025-04-27 16:51:55,652 - INFO - Retrieved 3 documents\n",
      "Both `max_new_tokens` (=800) and `max_length`(=2048) seem to have been set. `max_new_tokens` will take precedence. Please refer to the documentation for more information. (https://huggingface.co/docs/transformers/main/en/main_classes/text_generation)\n",
      "2025-04-27 16:57:04,847 - INFO - Processed 5/50 samples\n",
      "2025-04-27 16:57:04,848 - INFO - Cleaned tweet: our own rebecca newmanexcited to help in service project filling backpacks for puerto rico df17 hls\n"
     ]
    },
    {
     "data": {
      "application/vnd.jupyter.widget-view+json": {
       "model_id": "00a3b2543e7b4ce0a60ad7f0d1b60c88",
       "version_major": 2,
       "version_minor": 0
      },
      "text/plain": [
       "Batches:   0%|          | 0/1 [00:00<?, ?it/s]"
      ]
     },
     "metadata": {},
     "output_type": "display_data"
    },
    {
     "name": "stderr",
     "output_type": "stream",
     "text": [
      "2025-04-27 16:57:04,864 - INFO - Retrieved 3 documents\n",
      "Both `max_new_tokens` (=800) and `max_length`(=2048) seem to have been set. `max_new_tokens` will take precedence. Please refer to the documentation for more information. (https://huggingface.co/docs/transformers/main/en/main_classes/text_generation)\n",
      "2025-04-27 17:02:56,243 - INFO - Cleaned tweet: viking 41 sqn tornado gr4\n"
     ]
    },
    {
     "data": {
      "application/vnd.jupyter.widget-view+json": {
       "model_id": "b6a17ced851c4c4fac97f3e706b55806",
       "version_major": 2,
       "version_minor": 0
      },
      "text/plain": [
       "Batches:   0%|          | 0/1 [00:00<?, ?it/s]"
      ]
     },
     "metadata": {},
     "output_type": "display_data"
    },
    {
     "name": "stderr",
     "output_type": "stream",
     "text": [
      "2025-04-27 17:02:56,264 - INFO - Retrieved 3 documents\n",
      "Both `max_new_tokens` (=800) and `max_length`(=2048) seem to have been set. `max_new_tokens` will take precedence. Please refer to the documentation for more information. (https://huggingface.co/docs/transformers/main/en/main_classes/text_generation)\n",
      "2025-04-27 17:05:42,490 - INFO - Cleaned tweet: in dominica hurricane maria killed 27 people and dozens are still missing\n"
     ]
    },
    {
     "data": {
      "application/vnd.jupyter.widget-view+json": {
       "model_id": "129801df383d40a4bc1eac63034b5bfe",
       "version_major": 2,
       "version_minor": 0
      },
      "text/plain": [
       "Batches:   0%|          | 0/1 [00:00<?, ?it/s]"
      ]
     },
     "metadata": {},
     "output_type": "display_data"
    },
    {
     "name": "stderr",
     "output_type": "stream",
     "text": [
      "2025-04-27 17:05:42,506 - INFO - Retrieved 3 documents\n",
      "Both `max_new_tokens` (=800) and `max_length`(=2048) seem to have been set. `max_new_tokens` will take precedence. Please refer to the documentation for more information. (https://huggingface.co/docs/transformers/main/en/main_classes/text_generation)\n",
      "2025-04-27 17:10:59,228 - INFO - Cleaned tweet: were here to help irma harvey\n"
     ]
    },
    {
     "data": {
      "application/vnd.jupyter.widget-view+json": {
       "model_id": "1d6fd085a9144c9c92a5827a0a686d4d",
       "version_major": 2,
       "version_minor": 0
      },
      "text/plain": [
       "Batches:   0%|          | 0/1 [00:00<?, ?it/s]"
      ]
     },
     "metadata": {},
     "output_type": "display_data"
    },
    {
     "name": "stderr",
     "output_type": "stream",
     "text": [
      "2025-04-27 17:10:59,243 - INFO - Retrieved 3 documents\n",
      "You seem to be using the pipelines sequentially on GPU. In order to maximize efficiency please use a dataset\n",
      "Both `max_new_tokens` (=800) and `max_length`(=2048) seem to have been set. `max_new_tokens` will take precedence. Please refer to the documentation for more information. (https://huggingface.co/docs/transformers/main/en/main_classes/text_generation)\n",
      "2025-04-27 17:16:00,514 - INFO - Cleaned tweet: our hearts go out to the victims of hurricane maria and those in the predicted path emergingwomennc\n"
     ]
    },
    {
     "data": {
      "application/vnd.jupyter.widget-view+json": {
       "model_id": "6a464a5f5c8b4e899b5ea991eba9f6c4",
       "version_major": 2,
       "version_minor": 0
      },
      "text/plain": [
       "Batches:   0%|          | 0/1 [00:00<?, ?it/s]"
      ]
     },
     "metadata": {},
     "output_type": "display_data"
    },
    {
     "name": "stderr",
     "output_type": "stream",
     "text": [
      "2025-04-27 17:16:00,534 - INFO - Retrieved 3 documents\n",
      "Both `max_new_tokens` (=800) and `max_length`(=2048) seem to have been set. `max_new_tokens` will take precedence. Please refer to the documentation for more information. (https://huggingface.co/docs/transformers/main/en/main_classes/text_generation)\n",
      "2025-04-27 17:20:40,003 - INFO - Processed 10/50 samples\n",
      "2025-04-27 17:20:40,004 - INFO - Cleaned tweet: northern california wildfires deal crippling blow to regions economy\n"
     ]
    },
    {
     "data": {
      "application/vnd.jupyter.widget-view+json": {
       "model_id": "9d02be408fde49e2926464799a8bfa3c",
       "version_major": 2,
       "version_minor": 0
      },
      "text/plain": [
       "Batches:   0%|          | 0/1 [00:00<?, ?it/s]"
      ]
     },
     "metadata": {},
     "output_type": "display_data"
    },
    {
     "name": "stderr",
     "output_type": "stream",
     "text": [
      "2025-04-27 17:20:40,021 - INFO - Retrieved 3 documents\n",
      "Both `max_new_tokens` (=800) and `max_length`(=2048) seem to have been set. `max_new_tokens` will take precedence. Please refer to the documentation for more information. (https://huggingface.co/docs/transformers/main/en/main_classes/text_generation)\n",
      "2025-04-27 17:25:08,845 - ERROR - Failed to extract JSON from response:   Based on the information provided in the tweet and incident reports, I would classify the emergenc...\n",
      "2025-04-27 17:25:08,847 - INFO - Cleaned tweet: 14 images show devastation left behind by northern california wildfires\n"
     ]
    },
    {
     "data": {
      "application/vnd.jupyter.widget-view+json": {
       "model_id": "b1659710e8404f74805ed72db33f1c80",
       "version_major": 2,
       "version_minor": 0
      },
      "text/plain": [
       "Batches:   0%|          | 0/1 [00:00<?, ?it/s]"
      ]
     },
     "metadata": {},
     "output_type": "display_data"
    },
    {
     "name": "stderr",
     "output_type": "stream",
     "text": [
      "2025-04-27 17:25:08,862 - INFO - Retrieved 3 documents\n",
      "Both `max_new_tokens` (=800) and `max_length`(=2048) seem to have been set. `max_new_tokens` will take precedence. Please refer to the documentation for more information. (https://huggingface.co/docs/transformers/main/en/main_classes/text_generation)\n",
      "2025-04-27 17:30:38,033 - INFO - Cleaned tweet: california wildfires watch as this family finds their dog alive after fleeing deadly blaze\n"
     ]
    },
    {
     "data": {
      "application/vnd.jupyter.widget-view+json": {
       "model_id": "701e16278c5943d49effb7d0c8ebbe4e",
       "version_major": 2,
       "version_minor": 0
      },
      "text/plain": [
       "Batches:   0%|          | 0/1 [00:00<?, ?it/s]"
      ]
     },
     "metadata": {},
     "output_type": "display_data"
    },
    {
     "name": "stderr",
     "output_type": "stream",
     "text": [
      "2025-04-27 17:30:38,049 - INFO - Retrieved 3 documents\n",
      "Both `max_new_tokens` (=800) and `max_length`(=2048) seem to have been set. `max_new_tokens` will take precedence. Please refer to the documentation for more information. (https://huggingface.co/docs/transformers/main/en/main_classes/text_generation)\n",
      "2025-04-27 17:35:54,442 - INFO - Cleaned tweet: teenage students help rescue animals escaping california wildfires\n"
     ]
    },
    {
     "data": {
      "application/vnd.jupyter.widget-view+json": {
       "model_id": "cc4b2672fbbb4cb482f7b54145dc072c",
       "version_major": 2,
       "version_minor": 0
      },
      "text/plain": [
       "Batches:   0%|          | 0/1 [00:00<?, ?it/s]"
      ]
     },
     "metadata": {},
     "output_type": "display_data"
    },
    {
     "name": "stderr",
     "output_type": "stream",
     "text": [
      "2025-04-27 17:35:54,457 - INFO - Retrieved 3 documents\n",
      "Both `max_new_tokens` (=800) and `max_length`(=2048) seem to have been set. `max_new_tokens` will take precedence. Please refer to the documentation for more information. (https://huggingface.co/docs/transformers/main/en/main_classes/text_generation)\n",
      "2025-04-27 17:40:11,376 - INFO - Cleaned tweet: new canyonfire2 in orange county california is now 4000 acres according to cal fire\n"
     ]
    },
    {
     "data": {
      "application/vnd.jupyter.widget-view+json": {
       "model_id": "d37439837127476a922b0b47048516b3",
       "version_major": 2,
       "version_minor": 0
      },
      "text/plain": [
       "Batches:   0%|          | 0/1 [00:00<?, ?it/s]"
      ]
     },
     "metadata": {},
     "output_type": "display_data"
    },
    {
     "name": "stderr",
     "output_type": "stream",
     "text": [
      "2025-04-27 17:40:11,392 - INFO - Retrieved 3 documents\n",
      "Both `max_new_tokens` (=800) and `max_length`(=2048) seem to have been set. `max_new_tokens` will take precedence. Please refer to the documentation for more information. (https://huggingface.co/docs/transformers/main/en/main_classes/text_generation)\n",
      "2025-04-27 17:45:28,391 - INFO - Processed 15/50 samples\n",
      "2025-04-27 17:45:28,392 - INFO - Cleaned tweet: the home of peanuts creator charles schulz has been lost in the california wildfires\n"
     ]
    },
    {
     "data": {
      "application/vnd.jupyter.widget-view+json": {
       "model_id": "32d85e5d523b468cb0ba472f77763ea9",
       "version_major": 2,
       "version_minor": 0
      },
      "text/plain": [
       "Batches:   0%|          | 0/1 [00:00<?, ?it/s]"
      ]
     },
     "metadata": {},
     "output_type": "display_data"
    },
    {
     "name": "stderr",
     "output_type": "stream",
     "text": [
      "2025-04-27 17:45:28,405 - INFO - Retrieved 3 documents\n",
      "Both `max_new_tokens` (=800) and `max_length`(=2048) seem to have been set. `max_new_tokens` will take precedence. Please refer to the documentation for more information. (https://huggingface.co/docs/transformers/main/en/main_classes/text_generation)\n",
      "2025-04-27 17:51:05,132 - INFO - Cleaned tweet: an inferno like youve never seen deadly wildfires ravage california via\n"
     ]
    },
    {
     "data": {
      "application/vnd.jupyter.widget-view+json": {
       "model_id": "4fb2b70748ac456bb3004d2fd4320c7e",
       "version_major": 2,
       "version_minor": 0
      },
      "text/plain": [
       "Batches:   0%|          | 0/1 [00:00<?, ?it/s]"
      ]
     },
     "metadata": {},
     "output_type": "display_data"
    },
    {
     "name": "stderr",
     "output_type": "stream",
     "text": [
      "2025-04-27 17:51:05,157 - INFO - Retrieved 3 documents\n",
      "Both `max_new_tokens` (=800) and `max_length`(=2048) seem to have been set. `max_new_tokens` will take precedence. Please refer to the documentation for more information. (https://huggingface.co/docs/transformers/main/en/main_classes/text_generation)\n",
      "2025-04-27 17:56:03,976 - INFO - Cleaned tweet: 11 dead 100 injured wildfires ravage northern california with shocking speed\n"
     ]
    },
    {
     "data": {
      "application/vnd.jupyter.widget-view+json": {
       "model_id": "ab49743bf5094f8181fb011ee7d6fe99",
       "version_major": 2,
       "version_minor": 0
      },
      "text/plain": [
       "Batches:   0%|          | 0/1 [00:00<?, ?it/s]"
      ]
     },
     "metadata": {},
     "output_type": "display_data"
    },
    {
     "name": "stderr",
     "output_type": "stream",
     "text": [
      "2025-04-27 17:56:04,000 - INFO - Retrieved 3 documents\n",
      "Both `max_new_tokens` (=800) and `max_length`(=2048) seem to have been set. `max_new_tokens` will take precedence. Please refer to the documentation for more information. (https://huggingface.co/docs/transformers/main/en/main_classes/text_generation)\n",
      "2025-04-27 18:02:17,293 - INFO - Cleaned tweet: 23 dead hundreds still missing in california as wildfire conditions worsen\n"
     ]
    },
    {
     "data": {
      "application/vnd.jupyter.widget-view+json": {
       "model_id": "1601885c6a634cafb5980da6bd4b2e0d",
       "version_major": 2,
       "version_minor": 0
      },
      "text/plain": [
       "Batches:   0%|          | 0/1 [00:00<?, ?it/s]"
      ]
     },
     "metadata": {},
     "output_type": "display_data"
    },
    {
     "name": "stderr",
     "output_type": "stream",
     "text": [
      "2025-04-27 18:02:17,307 - INFO - Retrieved 3 documents\n",
      "Both `max_new_tokens` (=800) and `max_length`(=2048) seem to have been set. `max_new_tokens` will take precedence. Please refer to the documentation for more information. (https://huggingface.co/docs/transformers/main/en/main_classes/text_generation)\n",
      "2025-04-27 18:07:50,146 - INFO - Cleaned tweet: many latinos are struggling in californias wildfires but spanishlanguage information\n"
     ]
    },
    {
     "data": {
      "application/vnd.jupyter.widget-view+json": {
       "model_id": "c43bb388d77b4769b9c1e7fd89b79a72",
       "version_major": 2,
       "version_minor": 0
      },
      "text/plain": [
       "Batches:   0%|          | 0/1 [00:00<?, ?it/s]"
      ]
     },
     "metadata": {},
     "output_type": "display_data"
    },
    {
     "name": "stderr",
     "output_type": "stream",
     "text": [
      "2025-04-27 18:07:50,161 - INFO - Retrieved 3 documents\n",
      "Both `max_new_tokens` (=800) and `max_length`(=2048) seem to have been set. `max_new_tokens` will take precedence. Please refer to the documentation for more information. (https://huggingface.co/docs/transformers/main/en/main_classes/text_generation)\n",
      "2025-04-27 18:12:31,716 - INFO - Processed 20/50 samples\n",
      "2025-04-27 18:12:31,717 - INFO - Cleaned tweet: once again service dogs are a vital part of the rescue efforts for earthquake victims in mexico\n"
     ]
    },
    {
     "data": {
      "application/vnd.jupyter.widget-view+json": {
       "model_id": "400fa17cc354464ba4277bc27d2d54fc",
       "version_major": 2,
       "version_minor": 0
      },
      "text/plain": [
       "Batches:   0%|          | 0/1 [00:00<?, ?it/s]"
      ]
     },
     "metadata": {},
     "output_type": "display_data"
    },
    {
     "name": "stderr",
     "output_type": "stream",
     "text": [
      "2025-04-27 18:12:31,730 - INFO - Retrieved 3 documents\n",
      "Both `max_new_tokens` (=800) and `max_length`(=2048) seem to have been set. `max_new_tokens` will take precedence. Please refer to the documentation for more information. (https://huggingface.co/docs/transformers/main/en/main_classes/text_generation)\n",
      "2025-04-27 18:15:07,361 - INFO - Cleaned tweet: mexico earthquake praise for those who raced to help others\n"
     ]
    },
    {
     "data": {
      "application/vnd.jupyter.widget-view+json": {
       "model_id": "4c58df93f40c4199a7255d74abbb6eab",
       "version_major": 2,
       "version_minor": 0
      },
      "text/plain": [
       "Batches:   0%|          | 0/1 [00:00<?, ?it/s]"
      ]
     },
     "metadata": {},
     "output_type": "display_data"
    },
    {
     "name": "stderr",
     "output_type": "stream",
     "text": [
      "2025-04-27 18:15:07,377 - INFO - Retrieved 3 documents\n",
      "Both `max_new_tokens` (=800) and `max_length`(=2048) seem to have been set. `max_new_tokens` will take precedence. Please refer to the documentation for more information. (https://huggingface.co/docs/transformers/main/en/main_classes/text_generation)\n",
      "2025-04-27 18:17:51,773 - INFO - Cleaned tweet: this is frida she has saved 52 people so far in mexicos earthquake\n"
     ]
    },
    {
     "data": {
      "application/vnd.jupyter.widget-view+json": {
       "model_id": "4634dea4b31943208c636fcf49d00de7",
       "version_major": 2,
       "version_minor": 0
      },
      "text/plain": [
       "Batches:   0%|          | 0/1 [00:00<?, ?it/s]"
      ]
     },
     "metadata": {},
     "output_type": "display_data"
    },
    {
     "name": "stderr",
     "output_type": "stream",
     "text": [
      "2025-04-27 18:17:51,787 - INFO - Retrieved 3 documents\n",
      "Both `max_new_tokens` (=800) and `max_length`(=2048) seem to have been set. `max_new_tokens` will take precedence. Please refer to the documentation for more information. (https://huggingface.co/docs/transformers/main/en/main_classes/text_generation)\n",
      "2025-04-27 18:22:42,583 - INFO - Cleaned tweet: ioc voices readiness to help earthquakeaffected people in western iran\n"
     ]
    },
    {
     "data": {
      "application/vnd.jupyter.widget-view+json": {
       "model_id": "c550efe01ddb497eaa0fd7ae98887420",
       "version_major": 2,
       "version_minor": 0
      },
      "text/plain": [
       "Batches:   0%|          | 0/1 [00:00<?, ?it/s]"
      ]
     },
     "metadata": {},
     "output_type": "display_data"
    },
    {
     "name": "stderr",
     "output_type": "stream",
     "text": [
      "2025-04-27 18:22:42,599 - INFO - Retrieved 3 documents\n",
      "Both `max_new_tokens` (=800) and `max_length`(=2048) seem to have been set. `max_new_tokens` will take precedence. Please refer to the documentation for more information. (https://huggingface.co/docs/transformers/main/en/main_classes/text_generation)\n",
      "2025-04-27 18:25:57,779 - INFO - Cleaned tweet: iran iraq earthquake concern over darbandikhandam\n"
     ]
    },
    {
     "data": {
      "application/vnd.jupyter.widget-view+json": {
       "model_id": "6c501cc1756e4418aab719498158bde6",
       "version_major": 2,
       "version_minor": 0
      },
      "text/plain": [
       "Batches:   0%|          | 0/1 [00:00<?, ?it/s]"
      ]
     },
     "metadata": {},
     "output_type": "display_data"
    },
    {
     "name": "stderr",
     "output_type": "stream",
     "text": [
      "2025-04-27 18:25:57,795 - INFO - Retrieved 3 documents\n",
      "Both `max_new_tokens` (=800) and `max_length`(=2048) seem to have been set. `max_new_tokens` will take precedence. Please refer to the documentation for more information. (https://huggingface.co/docs/transformers/main/en/main_classes/text_generation)\n",
      "2025-04-27 18:29:22,381 - INFO - Processed 25/50 samples\n",
      "2025-04-27 18:29:22,382 - INFO - Cleaned tweet: mexico earthquake labased nonprofit cofem launches fundraiser to help relief efforts\n"
     ]
    },
    {
     "data": {
      "application/vnd.jupyter.widget-view+json": {
       "model_id": "1fe4991d17484da7865d82f180bd3d0a",
       "version_major": 2,
       "version_minor": 0
      },
      "text/plain": [
       "Batches:   0%|          | 0/1 [00:00<?, ?it/s]"
      ]
     },
     "metadata": {},
     "output_type": "display_data"
    },
    {
     "name": "stderr",
     "output_type": "stream",
     "text": [
      "2025-04-27 18:29:22,396 - INFO - Retrieved 3 documents\n",
      "Both `max_new_tokens` (=800) and `max_length`(=2048) seem to have been set. `max_new_tokens` will take precedence. Please refer to the documentation for more information. (https://huggingface.co/docs/transformers/main/en/main_classes/text_generation)\n",
      "2025-04-27 18:33:41,681 - INFO - Cleaned tweet: aaecho daily flash mexicoearthquake situation update\n"
     ]
    },
    {
     "data": {
      "application/vnd.jupyter.widget-view+json": {
       "model_id": "d2aff8e2d4b04b7bae88f4dd2d805191",
       "version_major": 2,
       "version_minor": 0
      },
      "text/plain": [
       "Batches:   0%|          | 0/1 [00:00<?, ?it/s]"
      ]
     },
     "metadata": {},
     "output_type": "display_data"
    },
    {
     "name": "stderr",
     "output_type": "stream",
     "text": [
      "2025-04-27 18:33:41,695 - INFO - Retrieved 3 documents\n",
      "Both `max_new_tokens` (=800) and `max_length`(=2048) seem to have been set. `max_new_tokens` will take precedence. Please refer to the documentation for more information. (https://huggingface.co/docs/transformers/main/en/main_classes/text_generation)\n",
      "2025-04-27 18:36:21,145 - INFO - Cleaned tweet: labrador helping mexicos earthquake efforts earns presidential thanks\n"
     ]
    },
    {
     "data": {
      "application/vnd.jupyter.widget-view+json": {
       "model_id": "c0b61d4c2c6642149c273e98de37860e",
       "version_major": 2,
       "version_minor": 0
      },
      "text/plain": [
       "Batches:   0%|          | 0/1 [00:00<?, ?it/s]"
      ]
     },
     "metadata": {},
     "output_type": "display_data"
    },
    {
     "name": "stderr",
     "output_type": "stream",
     "text": [
      "2025-04-27 18:36:21,160 - INFO - Retrieved 3 documents\n",
      "Both `max_new_tokens` (=800) and `max_length`(=2048) seem to have been set. `max_new_tokens` will take precedence. Please refer to the documentation for more information. (https://huggingface.co/docs/transformers/main/en/main_classes/text_generation)\n",
      "2025-04-27 18:38:52,191 - INFO - Cleaned tweet: 5 ways you can help mexico after the deadly earthquake entrepreneur business\n"
     ]
    },
    {
     "data": {
      "application/vnd.jupyter.widget-view+json": {
       "model_id": "a1497eb1a8384bd29545a85c68c36fe6",
       "version_major": 2,
       "version_minor": 0
      },
      "text/plain": [
       "Batches:   0%|          | 0/1 [00:00<?, ?it/s]"
      ]
     },
     "metadata": {},
     "output_type": "display_data"
    },
    {
     "name": "stderr",
     "output_type": "stream",
     "text": [
      "2025-04-27 18:38:52,206 - INFO - Retrieved 3 documents\n",
      "Both `max_new_tokens` (=800) and `max_length`(=2048) seem to have been set. `max_new_tokens` will take precedence. Please refer to the documentation for more information. (https://huggingface.co/docs/transformers/main/en/main_classes/text_generation)\n",
      "2025-04-27 18:43:36,262 - INFO - Cleaned tweet: a devastating earthquake has claimed hundreds of lives details still emerging\n"
     ]
    },
    {
     "data": {
      "application/vnd.jupyter.widget-view+json": {
       "model_id": "a3ae51c4b32248e39acd6a3952d308b1",
       "version_major": 2,
       "version_minor": 0
      },
      "text/plain": [
       "Batches:   0%|          | 0/1 [00:00<?, ?it/s]"
      ]
     },
     "metadata": {},
     "output_type": "display_data"
    },
    {
     "name": "stderr",
     "output_type": "stream",
     "text": [
      "2025-04-27 18:43:36,276 - INFO - Retrieved 3 documents\n",
      "Both `max_new_tokens` (=800) and `max_length`(=2048) seem to have been set. `max_new_tokens` will take precedence. Please refer to the documentation for more information. (https://huggingface.co/docs/transformers/main/en/main_classes/text_generation)\n",
      "2025-04-27 18:46:05,612 - INFO - Processed 30/50 samples\n",
      "2025-04-27 18:46:05,613 - INFO - Cleaned tweet: these are the peoples were affected by the flood srilankafloods srilanka lka\n"
     ]
    },
    {
     "data": {
      "application/vnd.jupyter.widget-view+json": {
       "model_id": "b4f270a27df749e7babefa9ec65cfbb8",
       "version_major": 2,
       "version_minor": 0
      },
      "text/plain": [
       "Batches:   0%|          | 0/1 [00:00<?, ?it/s]"
      ]
     },
     "metadata": {},
     "output_type": "display_data"
    },
    {
     "name": "stderr",
     "output_type": "stream",
     "text": [
      "2025-04-27 18:46:05,629 - INFO - Retrieved 3 documents\n",
      "Both `max_new_tokens` (=800) and `max_length`(=2048) seem to have been set. `max_new_tokens` will take precedence. Please refer to the documentation for more information. (https://huggingface.co/docs/transformers/main/en/main_classes/text_generation)\n",
      "2025-04-27 18:50:03,008 - INFO - Cleaned tweet: death toll in floodhit sri lanka hits 202 hospitals to be evacuated\n"
     ]
    },
    {
     "data": {
      "application/vnd.jupyter.widget-view+json": {
       "model_id": "c89cc4b853e7402c9b1ded7ea005ecd9",
       "version_major": 2,
       "version_minor": 0
      },
      "text/plain": [
       "Batches:   0%|          | 0/1 [00:00<?, ?it/s]"
      ]
     },
     "metadata": {},
     "output_type": "display_data"
    },
    {
     "name": "stderr",
     "output_type": "stream",
     "text": [
      "2025-04-27 18:50:03,023 - INFO - Retrieved 3 documents\n",
      "Both `max_new_tokens` (=800) and `max_length`(=2048) seem to have been set. `max_new_tokens` will take precedence. Please refer to the documentation for more information. (https://huggingface.co/docs/transformers/main/en/main_classes/text_generation)\n",
      "2025-04-27 18:52:29,669 - INFO - Cleaned tweet: dominica after hurricane maria trees stripped by wind then carried down the hills by floodwaters into the towns\n"
     ]
    },
    {
     "data": {
      "application/vnd.jupyter.widget-view+json": {
       "model_id": "02d5508e156e433d80220b54d0526551",
       "version_major": 2,
       "version_minor": 0
      },
      "text/plain": [
       "Batches:   0%|          | 0/1 [00:00<?, ?it/s]"
      ]
     },
     "metadata": {},
     "output_type": "display_data"
    },
    {
     "name": "stderr",
     "output_type": "stream",
     "text": [
      "2025-04-27 18:52:29,688 - INFO - Retrieved 3 documents\n",
      "Both `max_new_tokens` (=800) and `max_length`(=2048) seem to have been set. `max_new_tokens` will take precedence. Please refer to the documentation for more information. (https://huggingface.co/docs/transformers/main/en/main_classes/text_generation)\n",
      "2025-04-27 18:55:01,713 - INFO - Cleaned tweet: srilanka appeals for help as floods cripple water supply\n"
     ]
    },
    {
     "data": {
      "application/vnd.jupyter.widget-view+json": {
       "model_id": "7e1f3130f3cc40fa94a402a3d0ec0381",
       "version_major": 2,
       "version_minor": 0
      },
      "text/plain": [
       "Batches:   0%|          | 0/1 [00:00<?, ?it/s]"
      ]
     },
     "metadata": {},
     "output_type": "display_data"
    },
    {
     "name": "stderr",
     "output_type": "stream",
     "text": [
      "2025-04-27 18:55:01,732 - INFO - Retrieved 3 documents\n",
      "Both `max_new_tokens` (=800) and `max_length`(=2048) seem to have been set. `max_new_tokens` will take precedence. Please refer to the documentation for more information. (https://huggingface.co/docs/transformers/main/en/main_classes/text_generation)\n",
      "2025-04-27 18:58:41,379 - INFO - Cleaned tweet: houston no flood insurance here are some resources houstonstrong hurricaneharvey\n"
     ]
    },
    {
     "data": {
      "application/vnd.jupyter.widget-view+json": {
       "model_id": "4933d693f1204d4e8893c607fcf0380f",
       "version_major": 2,
       "version_minor": 0
      },
      "text/plain": [
       "Batches:   0%|          | 0/1 [00:00<?, ?it/s]"
      ]
     },
     "metadata": {},
     "output_type": "display_data"
    },
    {
     "name": "stderr",
     "output_type": "stream",
     "text": [
      "2025-04-27 18:58:41,395 - INFO - Retrieved 3 documents\n",
      "Both `max_new_tokens` (=800) and `max_length`(=2048) seem to have been set. `max_new_tokens` will take precedence. Please refer to the documentation for more information. (https://huggingface.co/docs/transformers/main/en/main_classes/text_generation)\n",
      "2025-04-27 19:03:31,325 - INFO - Processed 35/50 samples\n",
      "2025-04-27 19:03:31,325 - INFO - Cleaned tweet: irma inundated us and we need your help\n"
     ]
    },
    {
     "data": {
      "application/vnd.jupyter.widget-view+json": {
       "model_id": "0094d9ec1c8046418329d64d9770f414",
       "version_major": 2,
       "version_minor": 0
      },
      "text/plain": [
       "Batches:   0%|          | 0/1 [00:00<?, ?it/s]"
      ]
     },
     "metadata": {},
     "output_type": "display_data"
    },
    {
     "name": "stderr",
     "output_type": "stream",
     "text": [
      "2025-04-27 19:03:31,347 - INFO - Retrieved 3 documents\n",
      "Both `max_new_tokens` (=800) and `max_length`(=2048) seem to have been set. `max_new_tokens` will take precedence. Please refer to the documentation for more information. (https://huggingface.co/docs/transformers/main/en/main_classes/text_generation)\n",
      "2025-04-27 19:08:11,859 - INFO - Cleaned tweet: why floodedout cars are likely total losses hurricaneharvey\n"
     ]
    },
    {
     "data": {
      "application/vnd.jupyter.widget-view+json": {
       "model_id": "447f4a6a264849aca709689f7265cf2a",
       "version_major": 2,
       "version_minor": 0
      },
      "text/plain": [
       "Batches:   0%|          | 0/1 [00:00<?, ?it/s]"
      ]
     },
     "metadata": {},
     "output_type": "display_data"
    },
    {
     "name": "stderr",
     "output_type": "stream",
     "text": [
      "2025-04-27 19:08:11,877 - INFO - Retrieved 3 documents\n",
      "Both `max_new_tokens` (=800) and `max_length`(=2048) seem to have been set. `max_new_tokens` will take precedence. Please refer to the documentation for more information. (https://huggingface.co/docs/transformers/main/en/main_classes/text_generation)\n",
      "2025-04-27 19:13:37,212 - INFO - Cleaned tweet: helped to collect and send a leyland bus full of brand new clothes and food items to morawaka today floodsl\n"
     ]
    },
    {
     "data": {
      "application/vnd.jupyter.widget-view+json": {
       "model_id": "8a74e316ee724891818916963b5d9bdc",
       "version_major": 2,
       "version_minor": 0
      },
      "text/plain": [
       "Batches:   0%|          | 0/1 [00:00<?, ?it/s]"
      ]
     },
     "metadata": {},
     "output_type": "display_data"
    },
    {
     "name": "stderr",
     "output_type": "stream",
     "text": [
      "2025-04-27 19:13:37,232 - INFO - Retrieved 3 documents\n",
      "Both `max_new_tokens` (=800) and `max_length`(=2048) seem to have been set. `max_new_tokens` will take precedence. Please refer to the documentation for more information. (https://huggingface.co/docs/transformers/main/en/main_classes/text_generation)\n",
      "2025-04-27 19:18:28,936 - INFO - Cleaned tweet: tips on how you can help flood victims cope after harvey\n"
     ]
    },
    {
     "data": {
      "application/vnd.jupyter.widget-view+json": {
       "model_id": "ffa6b69e0f7b4371bb3a7db2863077a9",
       "version_major": 2,
       "version_minor": 0
      },
      "text/plain": [
       "Batches:   0%|          | 0/1 [00:00<?, ?it/s]"
      ]
     },
     "metadata": {},
     "output_type": "display_data"
    },
    {
     "name": "stderr",
     "output_type": "stream",
     "text": [
      "2025-04-27 19:18:28,959 - INFO - Retrieved 3 documents\n",
      "Both `max_new_tokens` (=800) and `max_length`(=2048) seem to have been set. `max_new_tokens` will take precedence. Please refer to the documentation for more information. (https://huggingface.co/docs/transformers/main/en/main_classes/text_generation)\n",
      "2025-04-27 19:22:50,010 - INFO - Cleaned tweet: hurricane irma may bring significant storm surge to florida governor says\n"
     ]
    },
    {
     "data": {
      "application/vnd.jupyter.widget-view+json": {
       "model_id": "3c36b6d431d04c45a0ec41318bd77363",
       "version_major": 2,
       "version_minor": 0
      },
      "text/plain": [
       "Batches:   0%|          | 0/1 [00:00<?, ?it/s]"
      ]
     },
     "metadata": {},
     "output_type": "display_data"
    },
    {
     "name": "stderr",
     "output_type": "stream",
     "text": [
      "2025-04-27 19:22:50,025 - INFO - Retrieved 3 documents\n",
      "Both `max_new_tokens` (=800) and `max_length`(=2048) seem to have been set. `max_new_tokens` will take precedence. Please refer to the documentation for more information. (https://huggingface.co/docs/transformers/main/en/main_classes/text_generation)\n",
      "2025-04-27 19:27:30,475 - INFO - Processed 40/50 samples\n",
      "2025-04-27 19:27:30,476 - INFO - Cleaned tweet: houston refinery significantly underestimated amount of toxic chemicals released\n"
     ]
    },
    {
     "data": {
      "application/vnd.jupyter.widget-view+json": {
       "model_id": "5b769b9f7b3549278860fc3658ee5f1c",
       "version_major": 2,
       "version_minor": 0
      },
      "text/plain": [
       "Batches:   0%|          | 0/1 [00:00<?, ?it/s]"
      ]
     },
     "metadata": {},
     "output_type": "display_data"
    },
    {
     "name": "stderr",
     "output_type": "stream",
     "text": [
      "2025-04-27 19:27:30,492 - INFO - Retrieved 3 documents\n",
      "Both `max_new_tokens` (=800) and `max_length`(=2048) seem to have been set. `max_new_tokens` will take precedence. Please refer to the documentation for more information. (https://huggingface.co/docs/transformers/main/en/main_classes/text_generation)\n",
      "2025-04-27 19:30:33,771 - INFO - Cleaned tweet: there are no reasons us citizens cannot be helped\n"
     ]
    },
    {
     "data": {
      "application/vnd.jupyter.widget-view+json": {
       "model_id": "c49b305d80a142748d11eaee65eeb175",
       "version_major": 2,
       "version_minor": 0
      },
      "text/plain": [
       "Batches:   0%|          | 0/1 [00:00<?, ?it/s]"
      ]
     },
     "metadata": {},
     "output_type": "display_data"
    },
    {
     "name": "stderr",
     "output_type": "stream",
     "text": [
      "2025-04-27 19:30:33,790 - INFO - Retrieved 3 documents\n",
      "Both `max_new_tokens` (=800) and `max_length`(=2048) seem to have been set. `max_new_tokens` will take precedence. Please refer to the documentation for more information. (https://huggingface.co/docs/transformers/main/en/main_classes/text_generation)\n",
      "2025-04-27 19:34:26,121 - INFO - Cleaned tweet: i named it cylon mora fucker 7\n"
     ]
    },
    {
     "data": {
      "application/vnd.jupyter.widget-view+json": {
       "model_id": "34f6ff6170864c46a0ff80e1ceb13f22",
       "version_major": 2,
       "version_minor": 0
      },
      "text/plain": [
       "Batches:   0%|          | 0/1 [00:00<?, ?it/s]"
      ]
     },
     "metadata": {},
     "output_type": "display_data"
    },
    {
     "name": "stderr",
     "output_type": "stream",
     "text": [
      "2025-04-27 19:34:26,140 - INFO - Retrieved 3 documents\n",
      "Both `max_new_tokens` (=800) and `max_length`(=2048) seem to have been set. `max_new_tokens` will take precedence. Please refer to the documentation for more information. (https://huggingface.co/docs/transformers/main/en/main_classes/text_generation)\n",
      "2025-04-27 19:38:42,637 - INFO - Cleaned tweet: big thanks to for sponsoring some of my silly drawings helped me with a generous donation to disaster rel\n"
     ]
    },
    {
     "data": {
      "application/vnd.jupyter.widget-view+json": {
       "model_id": "9e79807e2b8648309f3d1410d9d68edf",
       "version_major": 2,
       "version_minor": 0
      },
      "text/plain": [
       "Batches:   0%|          | 0/1 [00:00<?, ?it/s]"
      ]
     },
     "metadata": {},
     "output_type": "display_data"
    },
    {
     "name": "stderr",
     "output_type": "stream",
     "text": [
      "2025-04-27 19:38:42,653 - INFO - Retrieved 3 documents\n",
      "Both `max_new_tokens` (=800) and `max_length`(=2048) seem to have been set. `max_new_tokens` will take precedence. Please refer to the documentation for more information. (https://huggingface.co/docs/transformers/main/en/main_classes/text_generation)\n",
      "2025-04-27 19:42:10,664 - INFO - Cleaned tweet: retweeted kate mora cant have enough khan on bwbatch day\n"
     ]
    },
    {
     "data": {
      "application/vnd.jupyter.widget-view+json": {
       "model_id": "507149dfc81e46ceb9ab4394fc9c19cd",
       "version_major": 2,
       "version_minor": 0
      },
      "text/plain": [
       "Batches:   0%|          | 0/1 [00:00<?, ?it/s]"
      ]
     },
     "metadata": {},
     "output_type": "display_data"
    },
    {
     "name": "stderr",
     "output_type": "stream",
     "text": [
      "2025-04-27 19:42:10,680 - INFO - Retrieved 3 documents\n",
      "Both `max_new_tokens` (=800) and `max_length`(=2048) seem to have been set. `max_new_tokens` will take precedence. Please refer to the documentation for more information. (https://huggingface.co/docs/transformers/main/en/main_classes/text_generation)\n",
      "2025-04-27 19:45:58,491 - INFO - Processed 45/50 samples\n",
      "2025-04-27 19:45:58,492 - INFO - Cleaned tweet: sacramento business helping fire victims via\n"
     ]
    },
    {
     "data": {
      "application/vnd.jupyter.widget-view+json": {
       "model_id": "d9587e4277a94adba305c937a959846c",
       "version_major": 2,
       "version_minor": 0
      },
      "text/plain": [
       "Batches:   0%|          | 0/1 [00:00<?, ?it/s]"
      ]
     },
     "metadata": {},
     "output_type": "display_data"
    },
    {
     "name": "stderr",
     "output_type": "stream",
     "text": [
      "2025-04-27 19:45:58,508 - INFO - Retrieved 3 documents\n",
      "Both `max_new_tokens` (=800) and `max_length`(=2048) seem to have been set. `max_new_tokens` will take precedence. Please refer to the documentation for more information. (https://huggingface.co/docs/transformers/main/en/main_classes/text_generation)\n",
      "2025-04-27 19:50:57,091 - INFO - Cleaned tweet: why there is no magic formula to recovery after a disaster\n"
     ]
    },
    {
     "data": {
      "application/vnd.jupyter.widget-view+json": {
       "model_id": "f6910c5638fd4ef9952ce35823b31951",
       "version_major": 2,
       "version_minor": 0
      },
      "text/plain": [
       "Batches:   0%|          | 0/1 [00:00<?, ?it/s]"
      ]
     },
     "metadata": {},
     "output_type": "display_data"
    },
    {
     "name": "stderr",
     "output_type": "stream",
     "text": [
      "2025-04-27 19:50:57,110 - INFO - Retrieved 3 documents\n",
      "Both `max_new_tokens` (=800) and `max_length`(=2048) seem to have been set. `max_new_tokens` will take precedence. Please refer to the documentation for more information. (https://huggingface.co/docs/transformers/main/en/main_classes/text_generation)\n",
      "2025-04-27 19:53:22,063 - INFO - Cleaned tweet: texas families fear their land has been poisoned w dioxins by waste pits\n"
     ]
    },
    {
     "data": {
      "application/vnd.jupyter.widget-view+json": {
       "model_id": "48841d24f03b4f58a3189deddfb16f7f",
       "version_major": 2,
       "version_minor": 0
      },
      "text/plain": [
       "Batches:   0%|          | 0/1 [00:00<?, ?it/s]"
      ]
     },
     "metadata": {},
     "output_type": "display_data"
    },
    {
     "name": "stderr",
     "output_type": "stream",
     "text": [
      "2025-04-27 19:53:22,080 - INFO - Retrieved 3 documents\n",
      "Both `max_new_tokens` (=800) and `max_length`(=2048) seem to have been set. `max_new_tokens` will take precedence. Please refer to the documentation for more information. (https://huggingface.co/docs/transformers/main/en/main_classes/text_generation)\n",
      "2025-04-27 19:56:33,978 - INFO - Cleaned tweet: santarosa fire mendocino ave from kaiser hospital\n"
     ]
    },
    {
     "data": {
      "application/vnd.jupyter.widget-view+json": {
       "model_id": "f1eba7f9505b4f60901d717d75376ec5",
       "version_major": 2,
       "version_minor": 0
      },
      "text/plain": [
       "Batches:   0%|          | 0/1 [00:00<?, ?it/s]"
      ]
     },
     "metadata": {},
     "output_type": "display_data"
    },
    {
     "name": "stderr",
     "output_type": "stream",
     "text": [
      "2025-04-27 19:56:33,994 - INFO - Retrieved 3 documents\n",
      "Both `max_new_tokens` (=800) and `max_length`(=2048) seem to have been set. `max_new_tokens` will take precedence. Please refer to the documentation for more information. (https://huggingface.co/docs/transformers/main/en/main_classes/text_generation)\n",
      "2025-04-27 20:01:37,986 - INFO - Cleaned tweet: watch live vice president pence addresses puerto rican community\n"
     ]
    },
    {
     "data": {
      "application/vnd.jupyter.widget-view+json": {
       "model_id": "263b1491d2be444eac22c2c65dda4a9b",
       "version_major": 2,
       "version_minor": 0
      },
      "text/plain": [
       "Batches:   0%|          | 0/1 [00:00<?, ?it/s]"
      ]
     },
     "metadata": {},
     "output_type": "display_data"
    },
    {
     "name": "stderr",
     "output_type": "stream",
     "text": [
      "2025-04-27 20:01:38,003 - INFO - Retrieved 3 documents\n",
      "Both `max_new_tokens` (=800) and `max_length`(=2048) seem to have been set. `max_new_tokens` will take precedence. Please refer to the documentation for more information. (https://huggingface.co/docs/transformers/main/en/main_classes/text_generation)\n",
      "2025-04-27 20:05:36,760 - INFO - Processed 50/50 samples\n",
      "2025-04-27 20:05:36,772 - INFO - \n",
      "===== Aggregate Metrics =====\n",
      "2025-04-27 20:05:36,772 - INFO - Disaster Type Accuracy: 0.7800\n",
      "2025-04-27 20:05:36,773 - INFO - Distress Detection Accuracy: 0.7800\n",
      "2025-04-27 20:05:36,773 - INFO - Average BLEU Scores - Disaster Type: 0.1387, Distress: 0.1951, Location: 0.0732, Action: 0.0874\n",
      "2025-04-27 20:05:36,773 - INFO - Average ROUGE-1 Scores - Location: 0.6147, Action: 0.2560\n",
      "2025-04-27 20:05:36,773 - INFO - Average ROUGE-L Scores - Location: 0.5947, Action: 0.2560\n",
      "2025-04-27 20:05:36,773 - INFO - Average Processing Time: 253.59 seconds\n",
      "2025-04-27 20:05:36,778 - INFO - Saved detailed results to evaluation_results.csv\n",
      "2025-04-27 20:05:36,779 - INFO - Saved aggregate metrics to evaluation_results_metrics.csv\n",
      "2025-04-27 20:05:36,780 - INFO - Saved aggregate metrics to evaluation_results_metrics.json\n"
     ]
    },
    {
     "data": {
      "image/png": "[encoded data removed]",
      "text/plain": [
       "<Figure size 1000x600 with 1 Axes>"
      ]
     },
     "metadata": {},
     "output_type": "display_data"
    },
    {
     "data": {
      "image/png": "[encoded data removed]",
      "text/plain": [
       "<Figure size 1200x600 with 1 Axes>"
      ]
     },
     "metadata": {},
     "output_type": "display_data"
    },
    {
     "data": {
      "text/plain": [
       "<Figure size 1200x600 with 0 Axes>"
      ]
     },
     "metadata": {},
     "output_type": "display_data"
    },
    {
     "data": {
      "image/png": "[encoded data removed]",
      "text/plain": [
       "<Figure size 1000x600 with 1 Axes>"
      ]
     },
     "metadata": {},
     "output_type": "display_data"
    },
    {
     "data": {
      "image/png": "[encoded data removed]",
      "text/plain": [
       "<Figure size 1000x800 with 2 Axes>"
      ]
     },
     "metadata": {},
     "output_type": "display_data"
    },
    {
     "data": {
      "image/png": "[encoded data removed]",
      "text/plain": [
       "<Figure size 800x600 with 2 Axes>"
      ]
     },
     "metadata": {},
     "output_type": "display_data"
    },
    {
     "name": "stdout",
     "output_type": "stream",
     "text": [
      "\n",
      "Disaster Type Classification Report:\n",
      "              precision    recall  f1-score   support\n",
      "\n",
      "  earthquake       1.00      1.00      1.00        10\n",
      "       flood       1.00      0.70      0.82        10\n",
      "   hurricane       0.59      1.00      0.74        10\n",
      "       other       1.00      0.30      0.46        10\n",
      "     unknown       0.00      0.00      0.00         0\n",
      "    wildfire       0.75      0.90      0.82        10\n",
      "\n",
      "    accuracy                           0.78        50\n",
      "   macro avg       0.72      0.65      0.64        50\n",
      "weighted avg       0.87      0.78      0.77        50\n",
      "\n",
      "\n",
      "Distress Detection Classification Report:\n",
      "              precision    recall  f1-score   support\n",
      "\n",
      "    distress       0.77      0.92      0.84        25\n",
      "       major       0.00      0.00      0.00         0\n",
      "not distress       0.94      0.64      0.76        25\n",
      "     unknown       0.00      0.00      0.00         0\n",
      "\n",
      "    accuracy                           0.78        50\n",
      "   macro avg       0.43      0.39      0.40        50\n",
      "weighted avg       0.85      0.78      0.80        50\n",
      "\n"
     ]
    },
    {
     "name": "stderr",
     "output_type": "stream",
     "text": [
      "C:\\Users\\TTB\\AppData\\Local\\Programs\\Python\\Python310\\lib\\site-packages\\sklearn\\metrics\\_classification.py:1565: UndefinedMetricWarning: Recall is ill-defined and being set to 0.0 in labels with no true samples. Use `zero_division` parameter to control this behavior.\n",
      "  _warn_prf(average, modifier, f\"{metric.capitalize()} is\", len(result))\n",
      "C:\\Users\\TTB\\AppData\\Local\\Programs\\Python\\Python310\\lib\\site-packages\\sklearn\\metrics\\_classification.py:1565: UndefinedMetricWarning: Recall is ill-defined and being set to 0.0 in labels with no true samples. Use `zero_division` parameter to control this behavior.\n",
      "  _warn_prf(average, modifier, f\"{metric.capitalize()} is\", len(result))\n",
      "C:\\Users\\TTB\\AppData\\Local\\Programs\\Python\\Python310\\lib\\site-packages\\sklearn\\metrics\\_classification.py:1565: UndefinedMetricWarning: Recall is ill-defined and being set to 0.0 in labels with no true samples. Use `zero_division` parameter to control this behavior.\n",
      "  _warn_prf(average, modifier, f\"{metric.capitalize()} is\", len(result))\n",
      "C:\\Users\\TTB\\AppData\\Local\\Programs\\Python\\Python310\\lib\\site-packages\\sklearn\\metrics\\_classification.py:1565: UndefinedMetricWarning: Recall is ill-defined and being set to 0.0 in labels with no true samples. Use `zero_division` parameter to control this behavior.\n",
      "  _warn_prf(average, modifier, f\"{metric.capitalize()} is\", len(result))\n",
      "C:\\Users\\TTB\\AppData\\Local\\Programs\\Python\\Python310\\lib\\site-packages\\sklearn\\metrics\\_classification.py:1565: UndefinedMetricWarning: Recall is ill-defined and being set to 0.0 in labels with no true samples. Use `zero_division` parameter to control this behavior.\n",
      "  _warn_prf(average, modifier, f\"{metric.capitalize()} is\", len(result))\n",
      "C:\\Users\\TTB\\AppData\\Local\\Programs\\Python\\Python310\\lib\\site-packages\\sklearn\\metrics\\_classification.py:1565: UndefinedMetricWarning: Recall is ill-defined and being set to 0.0 in labels with no true samples. Use `zero_division` parameter to control this behavior.\n",
      "  _warn_prf(average, modifier, f\"{metric.capitalize()} is\", len(result))\n"
     ]
    }
   ],
   "source": [
    "# Create evaluator with your existing RAG system\n",
    "evaluator = RAGEvaluator(\n",
    "    sample_dataset_path=\"sample_dataset_balanced.csv\",\n",
    "    rag_system=rag_system,  # Use your existing RAG system\n",
    "    output_path=\"evaluation_results.csv\"\n",
    ")\n",
    "\n",
    "# Run evaluation on the full dataset\n",
    "results_df = evaluator.evaluate_all_samples()\n",
    "\n",
    "# Get the aggregate metrics\n",
    "metrics = evaluator.aggregate_metrics\n",
    "\n",
    "# Visualize the results\n",
    "visualize_results(results_df, metrics)"
   ]
  },
  {
   "cell_type": "code",
   "execution_count": null,
   "id": "9160ae8a-56d4-4ca1-8f4c-16dad9d5df0a",
   "metadata": {},
   "outputs": [],
   "source": []
  },
  {
   "cell_type": "markdown",
   "id": "2c6c2c88-dccf-4a07-8974-8f2cb538ba43",
   "metadata": {},
   "source": [
    "#  llama 7B quantized "
   ]
  },
  {
   "cell_type": "code",
   "execution_count": 6,
   "id": "a1a1a39e-dbbc-4543-a50a-2361b91f0562",
   "metadata": {},
   "outputs": [
    {
     "name": "stderr",
     "output_type": "stream",
     "text": [
      "2025-04-27 23:42:44,402 - INFO - Initializing Emergency Response RAG system (Llama2 7B Quantized)...\n",
      "2025-04-27 23:42:44,422 - INFO - Loaded FAISS index from document_faiss.index\n",
      "2025-04-27 23:42:44,534 - INFO - Loaded dataset from rest_dataset_with_document.csv with 18032 records\n",
      "2025-04-27 23:42:44,561 - INFO - Use pytorch device_name: cuda:0\n",
      "2025-04-27 23:42:44,561 - INFO - Load pretrained SentenceTransformer: all-mpnet-base-v2\n"
     ]
    },
    {
     "name": "stdout",
     "output_type": "stream",
     "text": [
      "Emergency Tweet Response System (RAG + Quantized Llama2 7B)\n",
      "Type 'exit' to quit.\n",
      "\n"
     ]
    },
    {
     "name": "stderr",
     "output_type": "stream",
     "text": [
      "2025-04-27 23:42:46,229 - INFO - Loaded embedding model: all-mpnet-base-v2\n",
      "2025-04-27 23:42:46,624 - INFO - We will use 90% of the memory on device 0 for storing the model, and 10% for the buffer to avoid OOM. You can set `max_memory` in to a higher value to use more memory (at your own risk).\n"
     ]
    },
    {
     "data": {
      "application/vnd.jupyter.widget-view+json": {
       "model_id": "8780e36e34f549ac96bb36d284f4406f",
       "version_major": 2,
       "version_minor": 0
      },
      "text/plain": [
       "Loading checkpoint shards:   0%|          | 0/2 [00:00<?, ?it/s]"
      ]
     },
     "metadata": {},
     "output_type": "display_data"
    },
    {
     "name": "stderr",
     "output_type": "stream",
     "text": [
      "2025-04-27 23:42:58,348 - INFO - Loaded Llama2-7B model (4-bit quantized) successfully.\n"
     ]
    },
    {
     "name": "stdin",
     "output_type": "stream",
     "text": [
      "Enter a new tweet:  testing bridges for safety after major hurricanes like irma\n"
     ]
    },
    {
     "data": {
      "application/vnd.jupyter.widget-view+json": {
       "model_id": "fee3f7350c2745efbf15751357502e68",
       "version_major": 2,
       "version_minor": 0
      },
      "text/plain": [
       "Batches:   0%|          | 0/1 [00:00<?, ?it/s]"
      ]
     },
     "metadata": {},
     "output_type": "display_data"
    },
    {
     "name": "stderr",
     "output_type": "stream",
     "text": [
      "2025-04-27 23:43:13,620 - INFO - Retrieved 3 documents\n",
      "C:\\Users\\TTB\\AppData\\Local\\Programs\\Python\\Python310\\lib\\site-packages\\transformers\\integrations\\sdpa_attention.py:54: UserWarning: 1Torch was not compiled with flash attention. (Triggered internally at ..\\aten\\src\\ATen\\native\\transformers\\cuda\\sdp_utils.cpp:263.)\n",
      "  attn_output = torch.nn.functional.scaled_dot_product_attention(\n",
      "2025-04-27 23:43:15,639 - ERROR - Llama2 model error: Extra data: line 8 column 1 (char 155)\n",
      "2025-04-27 23:43:15,640 - INFO - Processing time: 2.02 seconds\n"
     ]
    },
    {
     "name": "stdout",
     "output_type": "stream",
     "text": [
      "\n",
      "=== Emergency Response Analysis ===\n",
      "Tweet: testing bridges for safety after major hurricanes like irma\n",
      "\n",
      "Analysis:\n",
      "Disaster Type: other\n",
      "Distress Level: not distress\n",
      "Location: unknown\n",
      "Recommended Action: monitor only\n",
      "Processing Time: 2.02 seconds\n",
      "==================================================\n"
     ]
    },
    {
     "name": "stdin",
     "output_type": "stream",
     "text": [
      "Enter a new tweet:  in dominica hurricane maria killed 27 people and dozens are still missing\n"
     ]
    },
    {
     "data": {
      "application/vnd.jupyter.widget-view+json": {
       "model_id": "f0f68d9040354905ab91efbccd989837",
       "version_major": 2,
       "version_minor": 0
      },
      "text/plain": [
       "Batches:   0%|          | 0/1 [00:00<?, ?it/s]"
      ]
     },
     "metadata": {},
     "output_type": "display_data"
    },
    {
     "name": "stderr",
     "output_type": "stream",
     "text": [
      "2025-04-27 23:43:30,197 - INFO - Retrieved 3 documents\n",
      "2025-04-27 23:43:31,968 - ERROR - Llama2 model error: Extra data: line 8 column 1 (char 155)\n",
      "2025-04-27 23:43:31,968 - INFO - Processing time: 1.77 seconds\n"
     ]
    },
    {
     "name": "stdout",
     "output_type": "stream",
     "text": [
      "\n",
      "=== Emergency Response Analysis ===\n",
      "Tweet: in dominica hurricane maria killed 27 people and dozens are still missing\n",
      "\n",
      "Analysis:\n",
      "Disaster Type: other\n",
      "Distress Level: not distress\n",
      "Location: unknown\n",
      "Recommended Action: monitor only\n",
      "Processing Time: 1.77 seconds\n",
      "==================================================\n"
     ]
    },
    {
     "name": "stdin",
     "output_type": "stream",
     "text": [
      "Enter a new tweet:  11 dead 100 injured wildfires ravage northern california with shocking speed\n"
     ]
    },
    {
     "data": {
      "application/vnd.jupyter.widget-view+json": {
       "model_id": "86dcfd18734a4ccb9f39fa318148e7f9",
       "version_major": 2,
       "version_minor": 0
      },
      "text/plain": [
       "Batches:   0%|          | 0/1 [00:00<?, ?it/s]"
      ]
     },
     "metadata": {},
     "output_type": "display_data"
    },
    {
     "name": "stderr",
     "output_type": "stream",
     "text": [
      "2025-04-27 23:44:10,000 - INFO - Retrieved 3 documents\n",
      "2025-04-27 23:44:11,071 - INFO - Processing time: 1.07 seconds\n"
     ]
    },
    {
     "name": "stdout",
     "output_type": "stream",
     "text": [
      "\n",
      "=== Emergency Response Analysis ===\n",
      "Tweet: 11 dead 100 injured wildfires ravage northern california with shocking speed\n",
      "\n",
      "Analysis:\n",
      "Disaster Type: other\n",
      "Distress Level: distress\n",
      "Location: <location or unknown>\n",
      "Recommended Action: monitor only\n",
      "Processing Time: 1.07 seconds\n",
      "==================================================\n"
     ]
    },
    {
     "name": "stdin",
     "output_type": "stream",
     "text": [
      "Enter a new tweet:  labrador helping mexicos earthquake efforts earns presidential thanks\n"
     ]
    },
    {
     "data": {
      "application/vnd.jupyter.widget-view+json": {
       "model_id": "6e60a6d01a524cb1b43ad2b3672de14f",
       "version_major": 2,
       "version_minor": 0
      },
      "text/plain": [
       "Batches:   0%|          | 0/1 [00:00<?, ?it/s]"
      ]
     },
     "metadata": {},
     "output_type": "display_data"
    },
    {
     "name": "stderr",
     "output_type": "stream",
     "text": [
      "2025-04-27 23:44:35,740 - INFO - Retrieved 3 documents\n",
      "2025-04-27 23:44:36,657 - INFO - Processing time: 0.92 seconds\n"
     ]
    },
    {
     "name": "stdout",
     "output_type": "stream",
     "text": [
      "\n",
      "=== Emergency Response Analysis ===\n",
      "Tweet: labrador helping mexicos earthquake efforts earns presidential thanks\n",
      "\n",
      "Analysis:\n",
      "Disaster Type: other\n",
      "Distress Level: distress\n",
      "Location: <location or unknown>\n",
      "Recommended Action: monitor only\n",
      "Processing Time: 0.92 seconds\n",
      "==================================================\n"
     ]
    },
    {
     "name": "stdin",
     "output_type": "stream",
     "text": [
      "Enter a new tweet:  exit\n"
     ]
    },
    {
     "name": "stdout",
     "output_type": "stream",
     "text": [
      "\n",
      "System shutdown complete.\n"
     ]
    }
   ],
   "source": [
    "# path: llama2_rag.py\n",
    "\n",
    "import faiss\n",
    "import numpy as np\n",
    "import pandas as pd\n",
    "import torch\n",
    "import re\n",
    "import json\n",
    "import time\n",
    "import logging\n",
    "from sentence_transformers import SentenceTransformer\n",
    "from transformers import AutoModelForCausalLM, AutoTokenizer, BitsAndBytesConfig\n",
    "from typing import List, Dict, Any\n",
    "\n",
    "# Set up logging\n",
    "logging.basicConfig(level=logging.INFO, format='%(asctime)s - %(levelname)s - %(message)s')\n",
    "logger = logging.getLogger(__name__)\n",
    "\n",
    "class EmergencyResponseRAG:\n",
    "    def __init__(self, index_path=\"document_faiss.index\", dataset_path=\"rest_dataset_with_document.csv\",\n",
    "                 embedding_model_name='all-mpnet-base-v2'):\n",
    "        logger.info(\"Initializing Emergency Response RAG system (Llama2 7B Quantized)...\")\n",
    "        \n",
    "        # 1. Load FAISS Index\n",
    "        self.index = faiss.read_index(index_path)\n",
    "        logger.info(f\"Loaded FAISS index from {index_path}\")\n",
    "        \n",
    "        # 2. Load Dataset\n",
    "        self.df = pd.read_csv(dataset_path)\n",
    "        logger.info(f\"Loaded dataset from {dataset_path} with {len(self.df)} records\")\n",
    "        \n",
    "        # 3. Load Embedding Model\n",
    "        self.embedding_model = SentenceTransformer(embedding_model_name)\n",
    "        logger.info(f\"Loaded embedding model: {embedding_model_name}\")\n",
    "        \n",
    "        # 4. Load Quantized Llama2-7B Model\n",
    "        quantization_config = BitsAndBytesConfig(\n",
    "            load_in_4bit=True,\n",
    "            bnb_4bit_compute_dtype=torch.float16,\n",
    "            bnb_4bit_use_double_quant=True,\n",
    "            bnb_4bit_quant_type=\"nf4\"\n",
    "        )\n",
    "        self.tokenizer = AutoTokenizer.from_pretrained(\"meta-llama/Llama-2-7b-chat-hf\", trust_remote_code=True)\n",
    "        self.model = AutoModelForCausalLM.from_pretrained(\n",
    "            \"meta-llama/Llama-2-7b-chat-hf\",\n",
    "            quantization_config=quantization_config,\n",
    "            device_map=\"auto\",\n",
    "            trust_remote_code=True\n",
    "        )\n",
    "        logger.info(\"Loaded Llama2-7B model (4-bit quantized) successfully.\")\n",
    "\n",
    "        # Valid outputs\n",
    "        self.valid_disaster_types = [\"wildfire\", \"earthquake\", \"flood\", \"hurricane\", \"other\"]\n",
    "        self.valid_distress_values = [\"distress\", \"not distress\"]\n",
    "        self.valid_actions = [\"evacuation\", \"medical aid\", \"fire suppression\", \"rescue\", \"resource delivery\", \"monitor only\"]\n",
    "\n",
    "    def clean_tweet(self, text: str) -> str:\n",
    "        text = re.sub(r\"http\\S+|www\\S+|https\\S+\", '', text, flags=re.MULTILINE)\n",
    "        text = re.sub(r'\\@\\w+', '', text)\n",
    "        text = re.sub(r'#', '', text)\n",
    "        text = text.encode('ascii', 'ignore').decode('ascii')\n",
    "        text = text.lower()\n",
    "        text = re.sub(r'\\s+', ' ', text).strip()\n",
    "        return text\n",
    "\n",
    "    def embed_text(self, text: str) -> np.ndarray:\n",
    "        embedding = self.embedding_model.encode([text], convert_to_numpy=True)\n",
    "        return embedding\n",
    "\n",
    "    def retrieve_documents(self, query: str, k: int = 3) -> List[str]:\n",
    "        query_vector = self.embed_text(query)\n",
    "        distances, indices = self.index.search(query_vector, k)\n",
    "        if len(indices[0]) == 0 or (indices[0][0] == -1):\n",
    "            logger.warning(\"No relevant documents found.\")\n",
    "            return [\"No relevant incident reports available.\"]\n",
    "        retrieved_docs = self.df.iloc[indices[0]]['document'].tolist()\n",
    "        logger.info(f\"Retrieved {len(retrieved_docs)} documents\")\n",
    "        return retrieved_docs\n",
    "\n",
    "    def build_prompt(self, tweet_text: str, retrieved_docs: List[str]) -> str:\n",
    "        \"\"\"Constructs the prompt for Llama2\"\"\"\n",
    "        prompt = f\"\"\"\n",
    "You are an emergency response assistant. Analyze the tweet and related incidents.\n",
    "Classify:\n",
    "- Disaster Type: wildfire, earthquake, flood, hurricane, or other\n",
    "- Distress: distress / not distress\n",
    "- Location: most specific geographic location or unknown\n",
    "- Action: evacuation, medical aid, fire suppression, rescue, resource delivery, or monitor only\n",
    "\n",
    "Tweet:\n",
    "{tweet_text}\n",
    "\n",
    "Related Incidents:\n",
    "\"\"\"\n",
    "        for idx, doc in enumerate(retrieved_docs, 1):\n",
    "            prompt += f\"\\nIncident {idx}: {doc}\"\n",
    "\n",
    "        prompt += \"\"\"\n",
    "\n",
    "Return your analysis strictly in this JSON format:\n",
    "{\n",
    "\"disaster_type\": \"<disaster type>\",\n",
    "\"distress\": \"<distress or not distress>\",\n",
    "\"location_info\": \"<location or unknown>\",\n",
    "\"action\": \"<selected action>\"\n",
    "}\n",
    "\"\"\"\n",
    "        return prompt\n",
    "\n",
    "    def call_llama(self, tweet_text: str, retrieved_docs: List[str]) -> Dict[str, Any]:\n",
    "        \"\"\"Call Llama2 and parse the structured response\"\"\"\n",
    "        try:\n",
    "            full_prompt = self.build_prompt(tweet_text, retrieved_docs)\n",
    "            inputs = self.tokenizer(full_prompt, return_tensors=\"pt\").to(self.model.device)\n",
    "            outputs = self.model.generate(**inputs, max_new_tokens=512, temperature=0.2)\n",
    "            generated_text = self.tokenizer.decode(outputs[0], skip_special_tokens=True)\n",
    "\n",
    "            # Extract JSON\n",
    "            json_start = generated_text.find(\"{\")\n",
    "            json_end = generated_text.rfind(\"}\") + 1\n",
    "            if json_start == -1 or json_end == -1:\n",
    "                logger.error(\"Failed to extract JSON from Llama2 output.\")\n",
    "                return self._get_default_response()\n",
    "\n",
    "            json_str = generated_text[json_start:json_end]\n",
    "            result = json.loads(json_str)\n",
    "\n",
    "            # Validation\n",
    "            if result.get(\"disaster_type\", \"other\").lower() not in self.valid_disaster_types:\n",
    "                result[\"disaster_type\"] = \"other\"\n",
    "            if result.get(\"distress\", \"not distress\").lower() not in self.valid_distress_values:\n",
    "                result[\"distress\"] = \"distress\"\n",
    "            if result.get(\"action\", \"monitor only\").lower() not in self.valid_actions:\n",
    "                result[\"action\"] = \"monitor only\"\n",
    "            if \"location_info\" not in result:\n",
    "                result[\"location_info\"] = \"unknown\"\n",
    "\n",
    "            return result\n",
    "        \n",
    "        except Exception as e:\n",
    "            logger.error(f\"Llama2 model error: {e}\")\n",
    "            return self._get_default_response()\n",
    "\n",
    "    def _get_default_response(self) -> Dict[str, Any]:\n",
    "        return {\n",
    "            \"disaster_type\": \"other\",\n",
    "            \"distress\": \"not distress\",\n",
    "            \"location_info\": \"unknown\",\n",
    "            \"action\": \"monitor only\"\n",
    "        }\n",
    "\n",
    "    def process_tweet(self, tweet_text: str) -> Dict[str, Any]:\n",
    "        \"\"\"Main pipeline\"\"\"\n",
    "        try:\n",
    "            cleaned_tweet = self.clean_tweet(tweet_text)\n",
    "            retrieved_docs = self.retrieve_documents(cleaned_tweet)\n",
    "            start_time = time.time()\n",
    "            analysis = self.call_llama(cleaned_tweet, retrieved_docs)\n",
    "            processing_time = time.time() - start_time\n",
    "            logger.info(f\"Processing time: {processing_time:.2f} seconds\")\n",
    "            return {\n",
    "                \"input_tweet\": tweet_text,\n",
    "                \"cleaned_tweet\": cleaned_tweet,\n",
    "                \"retrieved_docs\": retrieved_docs,\n",
    "                \"analysis\": analysis,\n",
    "                \"processing_time\": processing_time\n",
    "            }\n",
    "        except Exception as e:\n",
    "            logger.error(f\"Error in process_tweet: {e}\")\n",
    "            return {\n",
    "                \"input_tweet\": tweet_text,\n",
    "                \"error\": str(e),\n",
    "                \"analysis\": self._get_default_response()\n",
    "            }\n",
    "\n",
    "# Main execution\n",
    "if __name__ == \"__main__\":\n",
    "    print(\"Emergency Tweet Response System (RAG + Quantized Llama2 7B)\")\n",
    "    print(\"Type 'exit' to quit.\\n\")\n",
    "\n",
    "    try:\n",
    "        rag_system = EmergencyResponseRAG()\n",
    "\n",
    "        while True:\n",
    "            incoming_tweet = input(\"Enter a new tweet: \")\n",
    "            if incoming_tweet.lower() == 'exit':\n",
    "                break\n",
    "\n",
    "            result = rag_system.process_tweet(incoming_tweet)\n",
    "\n",
    "            print(\"\\n=== Emergency Response Analysis ===\")\n",
    "            print(f\"Tweet: {result['input_tweet']}\")\n",
    "            print(\"\\nAnalysis:\")\n",
    "            analysis = result[\"analysis\"]\n",
    "            print(f\"Disaster Type: {analysis['disaster_type']}\")\n",
    "            print(f\"Distress Level: {analysis['distress']}\")\n",
    "            print(f\"Location: {analysis['location_info']}\")\n",
    "            print(f\"Recommended Action: {analysis['action']}\")\n",
    "            print(f\"Processing Time: {result['processing_time']:.2f} seconds\")\n",
    "            print(\"=\" * 50)\n",
    "\n",
    "    except KeyboardInterrupt:\n",
    "        print(\"\\nExiting...\")\n",
    "    except Exception as e:\n",
    "        print(f\"\\nAn error occurred: {e}\")\n",
    "    finally:\n",
    "        print(\"\\nSystem shutdown complete.\")\n"
   ]
  },
  {
   "cell_type": "code",
   "execution_count": 9,
   "id": "e5bc6ac0-4f32-43c6-8879-132c7ea76ffc",
   "metadata": {},
   "outputs": [
    {
     "name": "stderr",
     "output_type": "stream",
     "text": [
      "2025-04-27 23:49:53,709 - INFO - Using default tokenizer.\n"
     ]
    }
   ],
   "source": [
    "# path: llama2_rag_evaluation_run.py\n",
    "\n",
    "# Import required libraries\n",
    "import pandas as pd\n",
    "import numpy as np\n",
    "import matplotlib.pyplot as plt\n",
    "import seaborn as sns\n",
    "from tqdm.notebook import tqdm\n",
    "import time\n",
    "import json\n",
    "import logging\n",
    "from nltk.translate.bleu_score import sentence_bleu, SmoothingFunction\n",
    "from rouge_score import rouge_scorer\n",
    "from sklearn.metrics import confusion_matrix, classification_report, f1_score\n",
    "from typing import Dict, List, Any\n",
    "\n",
    "# Set up logging\n",
    "logging.basicConfig(level=logging.INFO, format='%(asctime)s - %(levelname)s - %(message)s')\n",
    "logger = logging.getLogger(__name__)\n",
    "\n",
    "# Initialize Rouge scorer\n",
    "scorer = rouge_scorer.RougeScorer(['rouge1', 'rouge2', 'rougeL'], use_stemmer=True)\n",
    "\n",
    "class RAGSystemEvaluator:\n",
    "    def __init__(self, rag_system, sample_dataset_path=\"sample_dataset_balanced.csv\", output_path=\"evaluation_results\"):\n",
    "        self.sample_df = pd.read_csv(sample_dataset_path)\n",
    "        print(f\"Loaded sample dataset from {sample_dataset_path} with {len(self.sample_df)} samples\")\n",
    "\n",
    "        self.rag_system = rag_system\n",
    "        self.output_path = output_path\n",
    "        self.smoothing = SmoothingFunction().method1\n",
    "        self.results = []\n",
    "\n",
    "    def calculate_bleu(self, reference: str, hypothesis: str) -> float:\n",
    "        if not reference or not hypothesis:\n",
    "            return 0.0\n",
    "        return sentence_bleu(\n",
    "            [reference.lower().split()],\n",
    "            hypothesis.lower().split(),\n",
    "            smoothing_function=self.smoothing\n",
    "        )\n",
    "\n",
    "    def calculate_rouge(self, reference: str, hypothesis: str) -> Dict[str, Dict[str, float]]:\n",
    "        if not reference or not hypothesis or len(reference.strip()) == 0 or len(hypothesis.strip()) == 0:\n",
    "            return {k: {'precision': 0.0, 'recall': 0.0, 'fmeasure': 0.0} for k in ['rouge1', 'rouge2', 'rougeL']}\n",
    "        try:\n",
    "            scores = scorer.score(reference, hypothesis)\n",
    "            return {k: {'precision': v.precision, 'recall': v.recall, 'fmeasure': v.fmeasure} for k, v in scores.items()}\n",
    "        except:\n",
    "            return {k: {'precision': 0.0, 'recall': 0.0, 'fmeasure': 0.0} for k in ['rouge1', 'rouge2', 'rougeL']}\n",
    "\n",
    "    def calculate_exact_match(self, reference: str, hypothesis: str) -> float:\n",
    "        return 1.0 if reference.lower().strip() == hypothesis.lower().strip() else 0.0\n",
    "\n",
    "    def evaluate_sample(self, row: pd.Series) -> Dict[str, Any]:\n",
    "        tweet_text = row['tweet_text']\n",
    "\n",
    "        gt_disaster_type = str(row['disaster_type']).lower() if not pd.isna(row['disaster_type']) else \"unknown\"\n",
    "        gt_distress = \"distress\" if row['distress'] == 1 else \"not distress\"\n",
    "        gt_location = str(row['state']).lower() if not pd.isna(row['state']) else \"unknown\"\n",
    "        if not pd.isna(row['sub_location']) and str(row['sub_location']).strip():\n",
    "            gt_location += f\" ({str(row['sub_location']).lower()})\"\n",
    "        gt_action = str(row['take_action']).lower() if not pd.isna(row['take_action']) else \"unknown\"\n",
    "\n",
    "        print(f\"Processing: {tweet_text[:50]}...\")\n",
    "        start_time = time.time()\n",
    "        prediction = self.rag_system.process_tweet(tweet_text)\n",
    "        processing_time = time.time() - start_time\n",
    "\n",
    "        pred_analysis = prediction['analysis']\n",
    "        pred_disaster_type = str(pred_analysis['disaster_type']).lower()\n",
    "        pred_distress = str(pred_analysis['distress']).lower()\n",
    "        pred_location = str(pred_analysis['location_info']).lower()\n",
    "        pred_action = str(pred_analysis['action']).lower()\n",
    "\n",
    "        result = {\n",
    "            'tweet_id': row.get('tweet_id', 'unknown'),\n",
    "            'tweet_text': tweet_text,\n",
    "            'gt_disaster_type': gt_disaster_type,\n",
    "            'pred_disaster_type': pred_disaster_type,\n",
    "            'disaster_type_bleu': self.calculate_bleu(gt_disaster_type, pred_disaster_type),\n",
    "            'disaster_type_exact': self.calculate_exact_match(gt_disaster_type, pred_disaster_type),\n",
    "            'gt_distress': gt_distress,\n",
    "            'pred_distress': pred_distress,\n",
    "            'distress_bleu': self.calculate_bleu(gt_distress, pred_distress),\n",
    "            'distress_exact': self.calculate_exact_match(gt_distress, pred_distress),\n",
    "            'gt_location': gt_location,\n",
    "            'pred_location': pred_location,\n",
    "            'location_bleu': self.calculate_bleu(gt_location, pred_location),\n",
    "            'location_rouge_1': self.calculate_rouge(gt_location, pred_location)['rouge1']['fmeasure'],\n",
    "            'location_rouge_2': self.calculate_rouge(gt_location, pred_location)['rouge2']['fmeasure'],\n",
    "            'location_rouge_l': self.calculate_rouge(gt_location, pred_location)['rougeL']['fmeasure'],\n",
    "            'gt_action': gt_action,\n",
    "            'pred_action': pred_action,\n",
    "            'action_bleu': self.calculate_bleu(gt_action, pred_action),\n",
    "            'action_rouge_1': self.calculate_rouge(gt_action, pred_action)['rouge1']['fmeasure'],\n",
    "            'action_rouge_2': self.calculate_rouge(gt_action, pred_action)['rouge2']['fmeasure'],\n",
    "            'action_rouge_l': self.calculate_rouge(gt_action, pred_action)['rougeL']['fmeasure'],\n",
    "            'processing_time': processing_time,\n",
    "            'retrieved_docs': prediction.get('retrieved_docs', [])\n",
    "        }\n",
    "\n",
    "        print(f\"Processed in {processing_time:.2f} seconds\")\n",
    "        return result\n",
    "\n",
    "    def evaluate_all_samples(self):\n",
    "        print(f\"Starting evaluation of {len(self.sample_df)} samples...\")\n",
    "        for _, row in tqdm(self.sample_df.iterrows(), total=len(self.sample_df), desc=\"Evaluating\"):\n",
    "            try:\n",
    "                result = self.evaluate_sample(row)\n",
    "                self.results.append(result)\n",
    "            except Exception as e:\n",
    "                print(f\"Error: {e}\")\n",
    "\n",
    "        return pd.DataFrame(self.results)\n",
    "\n",
    "def run_comprehensive_evaluation(rag_system, output_prefix=\"llama2_quantized_evaluation\"):\n",
    "    evaluator = RAGSystemEvaluator(rag_system)\n",
    "    results_df = evaluator.evaluate_all_samples()\n",
    "\n",
    "    results_df.to_csv(f\"{output_prefix}.csv\", index=False)\n",
    "    print(f\"Saved results to {output_prefix}.csv\")\n",
    "\n",
    "    print(\"\\nGenerating reports and plots...\")\n",
    "    disaster_report = classification_report(results_df['gt_disaster_type'], results_df['pred_disaster_type'])\n",
    "    distress_report = classification_report(results_df['gt_distress'], results_df['pred_distress'])\n",
    "    print(\"\\n===== Disaster Type Classification Report =====\")\n",
    "    print(disaster_report)\n",
    "    print(\"\\n===== Distress Detection Classification Report =====\")\n",
    "    print(distress_report)\n",
    "\n",
    "    disaster_cm = confusion_matrix(results_df['gt_disaster_type'], results_df['pred_disaster_type'])\n",
    "    distress_cm = confusion_matrix(results_df['gt_distress'], results_df['pred_distress'])\n",
    "\n",
    "    plt.figure(figsize=(12, 5))\n",
    "    sns.heatmap(disaster_cm, annot=True, fmt='d', cmap='Blues')\n",
    "    plt.title('Disaster Type Confusion Matrix')\n",
    "    plt.xlabel('Predicted')\n",
    "    plt.ylabel('True')\n",
    "    plt.show()\n",
    "\n",
    "    plt.figure(figsize=(6, 5))\n",
    "    sns.heatmap(distress_cm, annot=True, fmt='d', cmap='Greens')\n",
    "    plt.title('Distress Confusion Matrix')\n",
    "    plt.xlabel('Predicted')\n",
    "    plt.ylabel('True')\n",
    "    plt.show()\n",
    "\n",
    "    plt.figure(figsize=(8, 6))\n",
    "    sns.histplot(results_df['processing_time'], bins=20, kde=True)\n",
    "    plt.title('Processing Time Distribution')\n",
    "    plt.xlabel('Processing Time (seconds)')\n",
    "    plt.ylabel('Frequency')\n",
    "    plt.show()\n",
    "\n",
    "    return results_df\n"
   ]
  },
  {
   "cell_type": "code",
   "execution_count": 10,
   "id": "ef2e077e-ecad-479a-93f1-dc2eafd90e8b",
   "metadata": {},
   "outputs": [
    {
     "name": "stdout",
     "output_type": "stream",
     "text": [
      "Loaded sample dataset from sample_dataset_balanced.csv with 50 samples\n",
      "Starting evaluation of 50 samples...\n"
     ]
    },
    {
     "data": {
      "application/vnd.jupyter.widget-view+json": {
       "model_id": "71c31d88cfcf42a99fb483f8be95a397",
       "version_major": 2,
       "version_minor": 0
      },
      "text/plain": [
       "Evaluating:   0%|          | 0/50 [00:00<?, ?it/s]"
      ]
     },
     "metadata": {},
     "output_type": "display_data"
    },
    {
     "name": "stdout",
     "output_type": "stream",
     "text": [
      "Processing: testing bridges for safety after major hurricanes ...\n"
     ]
    },
    {
     "data": {
      "application/vnd.jupyter.widget-view+json": {
       "model_id": "f4ed1d6795e6495f8bb0e117fab22678",
       "version_major": 2,
       "version_minor": 0
      },
      "text/plain": [
       "Batches:   0%|          | 0/1 [00:00<?, ?it/s]"
      ]
     },
     "metadata": {},
     "output_type": "display_data"
    },
    {
     "name": "stderr",
     "output_type": "stream",
     "text": [
      "2025-04-27 23:49:56,451 - INFO - Retrieved 3 documents\n",
      "2025-04-27 23:49:57,503 - INFO - Processing time: 1.05 seconds\n"
     ]
    },
    {
     "name": "stdout",
     "output_type": "stream",
     "text": [
      "Processed in 1.11 seconds\n",
      "Processing: why a navy hospital ship in puerto rico has hardly...\n"
     ]
    },
    {
     "data": {
      "application/vnd.jupyter.widget-view+json": {
       "model_id": "6b3f0aa9a4bd44a59957a30fdcbecdfa",
       "version_major": 2,
       "version_minor": 0
      },
      "text/plain": [
       "Batches:   0%|          | 0/1 [00:00<?, ?it/s]"
      ]
     },
     "metadata": {},
     "output_type": "display_data"
    },
    {
     "name": "stderr",
     "output_type": "stream",
     "text": [
      "2025-04-27 23:49:57,518 - INFO - Retrieved 3 documents\n",
      "2025-04-27 23:49:58,411 - INFO - Processing time: 0.89 seconds\n"
     ]
    },
    {
     "name": "stdout",
     "output_type": "stream",
     "text": [
      "Processed in 0.91 seconds\n",
      "Processing: hurricane maria the aftermath st croix usvi...\n"
     ]
    },
    {
     "data": {
      "application/vnd.jupyter.widget-view+json": {
       "model_id": "41a6950faf8a4be59f8ea7cbc8ca77aa",
       "version_major": 2,
       "version_minor": 0
      },
      "text/plain": [
       "Batches:   0%|          | 0/1 [00:00<?, ?it/s]"
      ]
     },
     "metadata": {},
     "output_type": "display_data"
    },
    {
     "name": "stderr",
     "output_type": "stream",
     "text": [
      "2025-04-27 23:49:58,428 - INFO - Retrieved 3 documents\n",
      "2025-04-27 23:49:59,313 - INFO - Processing time: 0.88 seconds\n"
     ]
    },
    {
     "name": "stdout",
     "output_type": "stream",
     "text": [
      "Processed in 0.90 seconds\n",
      "Processing: on wul helping those affected by #harvey via a ver...\n"
     ]
    },
    {
     "data": {
      "application/vnd.jupyter.widget-view+json": {
       "model_id": "3d9a1a89851e4bd6a3b8318c635f86cf",
       "version_major": 2,
       "version_minor": 0
      },
      "text/plain": [
       "Batches:   0%|          | 0/1 [00:00<?, ?it/s]"
      ]
     },
     "metadata": {},
     "output_type": "display_data"
    },
    {
     "name": "stderr",
     "output_type": "stream",
     "text": [
      "2025-04-27 23:49:59,328 - INFO - Retrieved 3 documents\n",
      "2025-04-27 23:50:00,245 - INFO - Processing time: 0.92 seconds\n"
     ]
    },
    {
     "name": "stdout",
     "output_type": "stream",
     "text": [
      "Processed in 0.93 seconds\n",
      "Processing: hurricane maria path update shock spaghetti model ...\n"
     ]
    },
    {
     "data": {
      "application/vnd.jupyter.widget-view+json": {
       "model_id": "c6c6ed6d15d8421c848661c482babdd7",
       "version_major": 2,
       "version_minor": 0
      },
      "text/plain": [
       "Batches:   0%|          | 0/1 [00:00<?, ?it/s]"
      ]
     },
     "metadata": {},
     "output_type": "display_data"
    },
    {
     "name": "stderr",
     "output_type": "stream",
     "text": [
      "2025-04-27 23:50:00,261 - INFO - Retrieved 3 documents\n",
      "2025-04-27 23:50:01,601 - ERROR - Llama2 model error: Extra data: line 8 column 1 (char 155)\n",
      "2025-04-27 23:50:01,602 - INFO - Processing time: 1.34 seconds\n"
     ]
    },
    {
     "name": "stdout",
     "output_type": "stream",
     "text": [
      "Processed in 1.36 seconds\n",
      "Processing: our own rebecca newmanexcited to help in service p...\n"
     ]
    },
    {
     "data": {
      "application/vnd.jupyter.widget-view+json": {
       "model_id": "0d95c30d6d5e45409bd8b2ebddd3980d",
       "version_major": 2,
       "version_minor": 0
      },
      "text/plain": [
       "Batches:   0%|          | 0/1 [00:00<?, ?it/s]"
      ]
     },
     "metadata": {},
     "output_type": "display_data"
    },
    {
     "name": "stderr",
     "output_type": "stream",
     "text": [
      "2025-04-27 23:50:01,616 - INFO - Retrieved 3 documents\n",
      "2025-04-27 23:50:03,043 - ERROR - Llama2 model error: Extra data: line 8 column 1 (char 155)\n",
      "2025-04-27 23:50:03,043 - INFO - Processing time: 1.43 seconds\n"
     ]
    },
    {
     "name": "stdout",
     "output_type": "stream",
     "text": [
      "Processed in 1.44 seconds\n",
      "Processing: viking 41 sqn tornado gr4...\n"
     ]
    },
    {
     "data": {
      "application/vnd.jupyter.widget-view+json": {
       "model_id": "f433fdb29a3440068c4cc1c9ac19f372",
       "version_major": 2,
       "version_minor": 0
      },
      "text/plain": [
       "Batches:   0%|          | 0/1 [00:00<?, ?it/s]"
      ]
     },
     "metadata": {},
     "output_type": "display_data"
    },
    {
     "name": "stderr",
     "output_type": "stream",
     "text": [
      "2025-04-27 23:50:03,059 - INFO - Retrieved 3 documents\n",
      "2025-04-27 23:50:07,649 - INFO - Processing time: 4.59 seconds\n"
     ]
    },
    {
     "name": "stdout",
     "output_type": "stream",
     "text": [
      "Processed in 4.60 seconds\n",
      "Processing: in dominica hurricane maria killed 27 people and d...\n"
     ]
    },
    {
     "data": {
      "application/vnd.jupyter.widget-view+json": {
       "model_id": "3ae5e4e583b84bfc8a8d941725521750",
       "version_major": 2,
       "version_minor": 0
      },
      "text/plain": [
       "Batches:   0%|          | 0/1 [00:00<?, ?it/s]"
      ]
     },
     "metadata": {},
     "output_type": "display_data"
    },
    {
     "name": "stderr",
     "output_type": "stream",
     "text": [
      "2025-04-27 23:50:07,664 - INFO - Retrieved 3 documents\n",
      "2025-04-27 23:50:09,100 - ERROR - Llama2 model error: Extra data: line 8 column 1 (char 155)\n",
      "2025-04-27 23:50:09,100 - INFO - Processing time: 1.43 seconds\n"
     ]
    },
    {
     "name": "stdout",
     "output_type": "stream",
     "text": [
      "Processed in 1.45 seconds\n",
      "Processing: were here to help #irma #harvey...\n"
     ]
    },
    {
     "data": {
      "application/vnd.jupyter.widget-view+json": {
       "model_id": "56017234e79a4290ad7f41861d8b5d92",
       "version_major": 2,
       "version_minor": 0
      },
      "text/plain": [
       "Batches:   0%|          | 0/1 [00:00<?, ?it/s]"
      ]
     },
     "metadata": {},
     "output_type": "display_data"
    },
    {
     "name": "stderr",
     "output_type": "stream",
     "text": [
      "2025-04-27 23:50:09,125 - INFO - Retrieved 3 documents\n",
      "2025-04-27 23:50:10,119 - INFO - Processing time: 0.99 seconds\n"
     ]
    },
    {
     "name": "stdout",
     "output_type": "stream",
     "text": [
      "Processed in 1.02 seconds\n",
      "Processing: our hearts go out to the victims of hurricane mari...\n"
     ]
    },
    {
     "data": {
      "application/vnd.jupyter.widget-view+json": {
       "model_id": "f9c16042d5ee46f1b3b41c9e620c63a6",
       "version_major": 2,
       "version_minor": 0
      },
      "text/plain": [
       "Batches:   0%|          | 0/1 [00:00<?, ?it/s]"
      ]
     },
     "metadata": {},
     "output_type": "display_data"
    },
    {
     "name": "stderr",
     "output_type": "stream",
     "text": [
      "2025-04-27 23:50:10,135 - INFO - Retrieved 3 documents\n",
      "2025-04-27 23:50:11,007 - INFO - Processing time: 0.87 seconds\n"
     ]
    },
    {
     "name": "stdout",
     "output_type": "stream",
     "text": [
      "Processed in 0.89 seconds\n",
      "Processing: northern california wildfires deal crippling blow ...\n"
     ]
    },
    {
     "data": {
      "application/vnd.jupyter.widget-view+json": {
       "model_id": "53b75705114a403399b2524faa85d23e",
       "version_major": 2,
       "version_minor": 0
      },
      "text/plain": [
       "Batches:   0%|          | 0/1 [00:00<?, ?it/s]"
      ]
     },
     "metadata": {},
     "output_type": "display_data"
    },
    {
     "name": "stderr",
     "output_type": "stream",
     "text": [
      "2025-04-27 23:50:11,024 - INFO - Retrieved 3 documents\n",
      "2025-04-27 23:50:11,920 - INFO - Processing time: 0.90 seconds\n"
     ]
    },
    {
     "name": "stdout",
     "output_type": "stream",
     "text": [
      "Processed in 0.91 seconds\n",
      "Processing: 14 images show devastation left behind by northern...\n"
     ]
    },
    {
     "data": {
      "application/vnd.jupyter.widget-view+json": {
       "model_id": "9c1ec360088e47c8a77561e382e943b1",
       "version_major": 2,
       "version_minor": 0
      },
      "text/plain": [
       "Batches:   0%|          | 0/1 [00:00<?, ?it/s]"
      ]
     },
     "metadata": {},
     "output_type": "display_data"
    },
    {
     "name": "stderr",
     "output_type": "stream",
     "text": [
      "2025-04-27 23:50:11,937 - INFO - Retrieved 3 documents\n",
      "2025-04-27 23:50:12,839 - INFO - Processing time: 0.90 seconds\n"
     ]
    },
    {
     "name": "stdout",
     "output_type": "stream",
     "text": [
      "Processed in 0.92 seconds\n",
      "Processing: california wildfires watch as this family finds th...\n"
     ]
    },
    {
     "data": {
      "application/vnd.jupyter.widget-view+json": {
       "model_id": "1eb07a6069cd4d889d788e7f58a28b7e",
       "version_major": 2,
       "version_minor": 0
      },
      "text/plain": [
       "Batches:   0%|          | 0/1 [00:00<?, ?it/s]"
      ]
     },
     "metadata": {},
     "output_type": "display_data"
    },
    {
     "name": "stderr",
     "output_type": "stream",
     "text": [
      "2025-04-27 23:50:12,855 - INFO - Retrieved 3 documents\n",
      "2025-04-27 23:50:13,641 - INFO - Processing time: 0.78 seconds\n"
     ]
    },
    {
     "name": "stdout",
     "output_type": "stream",
     "text": [
      "Processed in 0.80 seconds\n",
      "Processing: teenage students help rescue animals escaping cali...\n"
     ]
    },
    {
     "data": {
      "application/vnd.jupyter.widget-view+json": {
       "model_id": "0e373dd0457d415f87ef3e6412fcb203",
       "version_major": 2,
       "version_minor": 0
      },
      "text/plain": [
       "Batches:   0%|          | 0/1 [00:00<?, ?it/s]"
      ]
     },
     "metadata": {},
     "output_type": "display_data"
    },
    {
     "name": "stderr",
     "output_type": "stream",
     "text": [
      "2025-04-27 23:50:13,657 - INFO - Retrieved 3 documents\n",
      "2025-04-27 23:50:14,520 - INFO - Processing time: 0.86 seconds\n"
     ]
    },
    {
     "name": "stdout",
     "output_type": "stream",
     "text": [
      "Processed in 0.88 seconds\n",
      "Processing: new #canyonfire2 in orange county california is no...\n"
     ]
    },
    {
     "data": {
      "application/vnd.jupyter.widget-view+json": {
       "model_id": "35d88d9a50c74595beaa2b06b5d95634",
       "version_major": 2,
       "version_minor": 0
      },
      "text/plain": [
       "Batches:   0%|          | 0/1 [00:00<?, ?it/s]"
      ]
     },
     "metadata": {},
     "output_type": "display_data"
    },
    {
     "name": "stderr",
     "output_type": "stream",
     "text": [
      "2025-04-27 23:50:14,536 - INFO - Retrieved 3 documents\n",
      "2025-04-27 23:50:15,449 - INFO - Processing time: 0.91 seconds\n"
     ]
    },
    {
     "name": "stdout",
     "output_type": "stream",
     "text": [
      "Processed in 0.93 seconds\n",
      "Processing: the home of #peanuts creator charles schulz has be...\n"
     ]
    },
    {
     "data": {
      "application/vnd.jupyter.widget-view+json": {
       "model_id": "2e127e93b2ee4f089b79f31d5e7fdf26",
       "version_major": 2,
       "version_minor": 0
      },
      "text/plain": [
       "Batches:   0%|          | 0/1 [00:00<?, ?it/s]"
      ]
     },
     "metadata": {},
     "output_type": "display_data"
    },
    {
     "name": "stderr",
     "output_type": "stream",
     "text": [
      "2025-04-27 23:50:15,464 - INFO - Retrieved 3 documents\n",
      "2025-04-27 23:50:16,230 - INFO - Processing time: 0.77 seconds\n"
     ]
    },
    {
     "name": "stdout",
     "output_type": "stream",
     "text": [
      "Processed in 0.78 seconds\n",
      "Processing: an inferno like youve never seen deadly wildfires ...\n"
     ]
    },
    {
     "data": {
      "application/vnd.jupyter.widget-view+json": {
       "model_id": "8871fdc3b073480cb324a3e715e29101",
       "version_major": 2,
       "version_minor": 0
      },
      "text/plain": [
       "Batches:   0%|          | 0/1 [00:00<?, ?it/s]"
      ]
     },
     "metadata": {},
     "output_type": "display_data"
    },
    {
     "name": "stderr",
     "output_type": "stream",
     "text": [
      "2025-04-27 23:50:16,247 - INFO - Retrieved 3 documents\n",
      "2025-04-27 23:50:17,613 - ERROR - Llama2 model error: Extra data: line 8 column 1 (char 155)\n",
      "2025-04-27 23:50:17,613 - INFO - Processing time: 1.37 seconds\n"
     ]
    },
    {
     "name": "stdout",
     "output_type": "stream",
     "text": [
      "Processed in 1.38 seconds\n",
      "Processing: 11 dead 100 injured wildfires ravage northern cali...\n"
     ]
    },
    {
     "data": {
      "application/vnd.jupyter.widget-view+json": {
       "model_id": "a597f102a184496798932c8f086e4266",
       "version_major": 2,
       "version_minor": 0
      },
      "text/plain": [
       "Batches:   0%|          | 0/1 [00:00<?, ?it/s]"
      ]
     },
     "metadata": {},
     "output_type": "display_data"
    },
    {
     "name": "stderr",
     "output_type": "stream",
     "text": [
      "2025-04-27 23:50:17,630 - INFO - Retrieved 3 documents\n",
      "2025-04-27 23:50:18,512 - INFO - Processing time: 0.88 seconds\n"
     ]
    },
    {
     "name": "stdout",
     "output_type": "stream",
     "text": [
      "Processed in 0.90 seconds\n",
      "Processing: 23 dead hundreds still missing in california as wi...\n"
     ]
    },
    {
     "data": {
      "application/vnd.jupyter.widget-view+json": {
       "model_id": "e94f28613afb40059cf0f44148b6c17d",
       "version_major": 2,
       "version_minor": 0
      },
      "text/plain": [
       "Batches:   0%|          | 0/1 [00:00<?, ?it/s]"
      ]
     },
     "metadata": {},
     "output_type": "display_data"
    },
    {
     "name": "stderr",
     "output_type": "stream",
     "text": [
      "2025-04-27 23:50:18,528 - INFO - Retrieved 3 documents\n",
      "2025-04-27 23:50:19,912 - ERROR - Llama2 model error: Extra data: line 8 column 1 (char 155)\n",
      "2025-04-27 23:50:19,913 - INFO - Processing time: 1.38 seconds\n"
     ]
    },
    {
     "name": "stdout",
     "output_type": "stream",
     "text": [
      "Processed in 1.40 seconds\n",
      "Processing: many latinos are struggling in californias wildfir...\n"
     ]
    },
    {
     "data": {
      "application/vnd.jupyter.widget-view+json": {
       "model_id": "46252b2f38b345318e1c571d84a40c3e",
       "version_major": 2,
       "version_minor": 0
      },
      "text/plain": [
       "Batches:   0%|          | 0/1 [00:00<?, ?it/s]"
      ]
     },
     "metadata": {},
     "output_type": "display_data"
    },
    {
     "name": "stderr",
     "output_type": "stream",
     "text": [
      "2025-04-27 23:50:19,930 - INFO - Retrieved 3 documents\n",
      "2025-04-27 23:50:21,024 - INFO - Processing time: 1.09 seconds\n"
     ]
    },
    {
     "name": "stdout",
     "output_type": "stream",
     "text": [
      "Processed in 1.11 seconds\n",
      "Processing: once again service dogs are a vital part of the re...\n"
     ]
    },
    {
     "data": {
      "application/vnd.jupyter.widget-view+json": {
       "model_id": "e7f75b4866db434890372efe2518c818",
       "version_major": 2,
       "version_minor": 0
      },
      "text/plain": [
       "Batches:   0%|          | 0/1 [00:00<?, ?it/s]"
      ]
     },
     "metadata": {},
     "output_type": "display_data"
    },
    {
     "name": "stderr",
     "output_type": "stream",
     "text": [
      "2025-04-27 23:50:21,041 - INFO - Retrieved 3 documents\n",
      "2025-04-27 23:50:21,895 - INFO - Processing time: 0.85 seconds\n"
     ]
    },
    {
     "name": "stdout",
     "output_type": "stream",
     "text": [
      "Processed in 0.87 seconds\n",
      "Processing: mexico earthquake praise for those who raced to he...\n"
     ]
    },
    {
     "data": {
      "application/vnd.jupyter.widget-view+json": {
       "model_id": "7c2f4555cc264e8c9cfc798ed23a62c4",
       "version_major": 2,
       "version_minor": 0
      },
      "text/plain": [
       "Batches:   0%|          | 0/1 [00:00<?, ?it/s]"
      ]
     },
     "metadata": {},
     "output_type": "display_data"
    },
    {
     "name": "stderr",
     "output_type": "stream",
     "text": [
      "2025-04-27 23:50:21,911 - INFO - Retrieved 3 documents\n",
      "2025-04-27 23:50:22,841 - INFO - Processing time: 0.93 seconds\n"
     ]
    },
    {
     "name": "stdout",
     "output_type": "stream",
     "text": [
      "Processed in 0.95 seconds\n",
      "Processing: this is frida she has saved 52 people so far in me...\n"
     ]
    },
    {
     "data": {
      "application/vnd.jupyter.widget-view+json": {
       "model_id": "39df2a5ba9a14362830f1f035079761d",
       "version_major": 2,
       "version_minor": 0
      },
      "text/plain": [
       "Batches:   0%|          | 0/1 [00:00<?, ?it/s]"
      ]
     },
     "metadata": {},
     "output_type": "display_data"
    },
    {
     "name": "stderr",
     "output_type": "stream",
     "text": [
      "2025-04-27 23:50:22,856 - INFO - Retrieved 3 documents\n",
      "2025-04-27 23:50:26,290 - ERROR - Llama2 model error: Extra data: line 8 column 1 (char 155)\n",
      "2025-04-27 23:50:26,291 - INFO - Processing time: 3.43 seconds\n"
     ]
    },
    {
     "name": "stdout",
     "output_type": "stream",
     "text": [
      "Processed in 3.45 seconds\n",
      "Processing: ioc voices readiness to help earthquakeaffected pe...\n"
     ]
    },
    {
     "data": {
      "application/vnd.jupyter.widget-view+json": {
       "model_id": "1869da3c2b604a23901aa06dff9afaf2",
       "version_major": 2,
       "version_minor": 0
      },
      "text/plain": [
       "Batches:   0%|          | 0/1 [00:00<?, ?it/s]"
      ]
     },
     "metadata": {},
     "output_type": "display_data"
    },
    {
     "name": "stderr",
     "output_type": "stream",
     "text": [
      "2025-04-27 23:50:26,307 - INFO - Retrieved 3 documents\n",
      "2025-04-27 23:50:27,128 - INFO - Processing time: 0.82 seconds\n"
     ]
    },
    {
     "name": "stdout",
     "output_type": "stream",
     "text": [
      "Processed in 0.84 seconds\n",
      "Processing: iran iraq earthquake concern over darbandikhandam...\n"
     ]
    },
    {
     "data": {
      "application/vnd.jupyter.widget-view+json": {
       "model_id": "006aaed70be44929a217c67445c3f598",
       "version_major": 2,
       "version_minor": 0
      },
      "text/plain": [
       "Batches:   0%|          | 0/1 [00:00<?, ?it/s]"
      ]
     },
     "metadata": {},
     "output_type": "display_data"
    },
    {
     "name": "stderr",
     "output_type": "stream",
     "text": [
      "2025-04-27 23:50:27,144 - INFO - Retrieved 3 documents\n",
      "2025-04-27 23:50:28,609 - ERROR - Llama2 model error: Extra data: line 8 column 1 (char 155)\n",
      "2025-04-27 23:50:28,609 - INFO - Processing time: 1.47 seconds\n"
     ]
    },
    {
     "name": "stdout",
     "output_type": "stream",
     "text": [
      "Processed in 1.48 seconds\n",
      "Processing: mexico earthquake labased nonprofit cofem launches...\n"
     ]
    },
    {
     "data": {
      "application/vnd.jupyter.widget-view+json": {
       "model_id": "369c9991d9294e6b939c8714838d570b",
       "version_major": 2,
       "version_minor": 0
      },
      "text/plain": [
       "Batches:   0%|          | 0/1 [00:00<?, ?it/s]"
      ]
     },
     "metadata": {},
     "output_type": "display_data"
    },
    {
     "name": "stderr",
     "output_type": "stream",
     "text": [
      "2025-04-27 23:50:28,625 - INFO - Retrieved 3 documents\n",
      "2025-04-27 23:50:29,476 - INFO - Processing time: 0.85 seconds\n"
     ]
    },
    {
     "name": "stdout",
     "output_type": "stream",
     "text": [
      "Processed in 0.86 seconds\n",
      "Processing: aaecho daily flash #mexicoearthquake situation upd...\n"
     ]
    },
    {
     "data": {
      "application/vnd.jupyter.widget-view+json": {
       "model_id": "a0bd9900d4eb4e549f21fb5e1ae30978",
       "version_major": 2,
       "version_minor": 0
      },
      "text/plain": [
       "Batches:   0%|          | 0/1 [00:00<?, ?it/s]"
      ]
     },
     "metadata": {},
     "output_type": "display_data"
    },
    {
     "name": "stderr",
     "output_type": "stream",
     "text": [
      "2025-04-27 23:50:29,491 - INFO - Retrieved 3 documents\n",
      "2025-04-27 23:50:32,177 - ERROR - Llama2 model error: Extra data: line 8 column 1 (char 155)\n",
      "2025-04-27 23:50:32,178 - INFO - Processing time: 2.69 seconds\n"
     ]
    },
    {
     "name": "stdout",
     "output_type": "stream",
     "text": [
      "Processed in 2.70 seconds\n",
      "Processing: labrador helping mexicos earthquake efforts earns ...\n"
     ]
    },
    {
     "data": {
      "application/vnd.jupyter.widget-view+json": {
       "model_id": "a719bed9495f40c89a64bca23118eabf",
       "version_major": 2,
       "version_minor": 0
      },
      "text/plain": [
       "Batches:   0%|          | 0/1 [00:00<?, ?it/s]"
      ]
     },
     "metadata": {},
     "output_type": "display_data"
    },
    {
     "name": "stderr",
     "output_type": "stream",
     "text": [
      "2025-04-27 23:50:32,196 - INFO - Retrieved 3 documents\n",
      "2025-04-27 23:50:33,046 - INFO - Processing time: 0.85 seconds\n"
     ]
    },
    {
     "name": "stdout",
     "output_type": "stream",
     "text": [
      "Processed in 0.87 seconds\n",
      "Processing: 5 ways you can help mexico after the deadly earthq...\n"
     ]
    },
    {
     "data": {
      "application/vnd.jupyter.widget-view+json": {
       "model_id": "262f624f4c6b4c2ab82f11e9bd298a3e",
       "version_major": 2,
       "version_minor": 0
      },
      "text/plain": [
       "Batches:   0%|          | 0/1 [00:00<?, ?it/s]"
      ]
     },
     "metadata": {},
     "output_type": "display_data"
    },
    {
     "name": "stderr",
     "output_type": "stream",
     "text": [
      "2025-04-27 23:50:33,062 - INFO - Retrieved 3 documents\n",
      "2025-04-27 23:50:36,502 - ERROR - Llama2 model error: Extra data: line 8 column 1 (char 155)\n",
      "2025-04-27 23:50:36,502 - INFO - Processing time: 3.44 seconds\n"
     ]
    },
    {
     "name": "stdout",
     "output_type": "stream",
     "text": [
      "Processed in 3.45 seconds\n",
      "Processing: a devastating earthquake has claimed hundreds of l...\n"
     ]
    },
    {
     "data": {
      "application/vnd.jupyter.widget-view+json": {
       "model_id": "5879a395ddef47aeb5e74c024388a4f6",
       "version_major": 2,
       "version_minor": 0
      },
      "text/plain": [
       "Batches:   0%|          | 0/1 [00:00<?, ?it/s]"
      ]
     },
     "metadata": {},
     "output_type": "display_data"
    },
    {
     "name": "stderr",
     "output_type": "stream",
     "text": [
      "2025-04-27 23:50:36,520 - INFO - Retrieved 3 documents\n",
      "2025-04-27 23:50:37,382 - INFO - Processing time: 0.86 seconds\n"
     ]
    },
    {
     "name": "stdout",
     "output_type": "stream",
     "text": [
      "Processed in 0.88 seconds\n",
      "Processing: these are the peoples were affected by the flood #...\n"
     ]
    },
    {
     "data": {
      "application/vnd.jupyter.widget-view+json": {
       "model_id": "d1d43712c2bd4a299219fcdff1d4800f",
       "version_major": 2,
       "version_minor": 0
      },
      "text/plain": [
       "Batches:   0%|          | 0/1 [00:00<?, ?it/s]"
      ]
     },
     "metadata": {},
     "output_type": "display_data"
    },
    {
     "name": "stderr",
     "output_type": "stream",
     "text": [
      "2025-04-27 23:50:37,400 - INFO - Retrieved 3 documents\n",
      "2025-04-27 23:50:38,172 - INFO - Processing time: 0.77 seconds\n"
     ]
    },
    {
     "name": "stdout",
     "output_type": "stream",
     "text": [
      "Processed in 0.79 seconds\n",
      "Processing: death toll in floodhit sri lanka hits 202 hospital...\n"
     ]
    },
    {
     "data": {
      "application/vnd.jupyter.widget-view+json": {
       "model_id": "71d18fde42a74956a4655ca3e6e23ebc",
       "version_major": 2,
       "version_minor": 0
      },
      "text/plain": [
       "Batches:   0%|          | 0/1 [00:00<?, ?it/s]"
      ]
     },
     "metadata": {},
     "output_type": "display_data"
    },
    {
     "name": "stderr",
     "output_type": "stream",
     "text": [
      "2025-04-27 23:50:38,188 - INFO - Retrieved 3 documents\n",
      "2025-04-27 23:50:39,085 - INFO - Processing time: 0.90 seconds\n"
     ]
    },
    {
     "name": "stdout",
     "output_type": "stream",
     "text": [
      "Processed in 0.91 seconds\n",
      "Processing: dominica after hurricane maria trees stripped by w...\n"
     ]
    },
    {
     "data": {
      "application/vnd.jupyter.widget-view+json": {
       "model_id": "ca7d88a763ff4a7f8eccf9776071253c",
       "version_major": 2,
       "version_minor": 0
      },
      "text/plain": [
       "Batches:   0%|          | 0/1 [00:00<?, ?it/s]"
      ]
     },
     "metadata": {},
     "output_type": "display_data"
    },
    {
     "name": "stderr",
     "output_type": "stream",
     "text": [
      "2025-04-27 23:50:39,102 - INFO - Retrieved 3 documents\n",
      "2025-04-27 23:50:39,959 - INFO - Processing time: 0.86 seconds\n"
     ]
    },
    {
     "name": "stdout",
     "output_type": "stream",
     "text": [
      "Processed in 0.87 seconds\n",
      "Processing: #srilanka appeals for help as #floods cripple wate...\n"
     ]
    },
    {
     "data": {
      "application/vnd.jupyter.widget-view+json": {
       "model_id": "4006b062f8554065bdeb1b1080b1b45a",
       "version_major": 2,
       "version_minor": 0
      },
      "text/plain": [
       "Batches:   0%|          | 0/1 [00:00<?, ?it/s]"
      ]
     },
     "metadata": {},
     "output_type": "display_data"
    },
    {
     "name": "stderr",
     "output_type": "stream",
     "text": [
      "2025-04-27 23:50:39,975 - INFO - Retrieved 3 documents\n",
      "2025-04-27 23:50:40,717 - INFO - Processing time: 0.74 seconds\n"
     ]
    },
    {
     "name": "stdout",
     "output_type": "stream",
     "text": [
      "Processed in 0.76 seconds\n",
      "Processing: #houston no flood insurance here are some resource...\n"
     ]
    },
    {
     "data": {
      "application/vnd.jupyter.widget-view+json": {
       "model_id": "577b48abaf4c445b8ed4c62eb8b6e5dd",
       "version_major": 2,
       "version_minor": 0
      },
      "text/plain": [
       "Batches:   0%|          | 0/1 [00:00<?, ?it/s]"
      ]
     },
     "metadata": {},
     "output_type": "display_data"
    },
    {
     "name": "stderr",
     "output_type": "stream",
     "text": [
      "2025-04-27 23:50:40,733 - INFO - Retrieved 3 documents\n",
      "2025-04-27 23:50:41,647 - INFO - Processing time: 0.91 seconds\n"
     ]
    },
    {
     "name": "stdout",
     "output_type": "stream",
     "text": [
      "Processed in 0.93 seconds\n",
      "Processing: irma inundated us and we need your help...\n"
     ]
    },
    {
     "data": {
      "application/vnd.jupyter.widget-view+json": {
       "model_id": "b78ee9ea8ea64357a4d8abb444a1be8a",
       "version_major": 2,
       "version_minor": 0
      },
      "text/plain": [
       "Batches:   0%|          | 0/1 [00:00<?, ?it/s]"
      ]
     },
     "metadata": {},
     "output_type": "display_data"
    },
    {
     "name": "stderr",
     "output_type": "stream",
     "text": [
      "2025-04-27 23:50:41,662 - INFO - Retrieved 3 documents\n",
      "2025-04-27 23:50:42,571 - INFO - Processing time: 0.91 seconds\n"
     ]
    },
    {
     "name": "stdout",
     "output_type": "stream",
     "text": [
      "Processed in 0.92 seconds\n",
      "Processing: why floodedout cars are likely total losses #hurri...\n"
     ]
    },
    {
     "data": {
      "application/vnd.jupyter.widget-view+json": {
       "model_id": "e8713549169f406d8528e51ca6eb97ca",
       "version_major": 2,
       "version_minor": 0
      },
      "text/plain": [
       "Batches:   0%|          | 0/1 [00:00<?, ?it/s]"
      ]
     },
     "metadata": {},
     "output_type": "display_data"
    },
    {
     "name": "stderr",
     "output_type": "stream",
     "text": [
      "2025-04-27 23:50:42,588 - INFO - Retrieved 3 documents\n",
      "2025-04-27 23:50:43,423 - INFO - Processing time: 0.83 seconds\n"
     ]
    },
    {
     "name": "stdout",
     "output_type": "stream",
     "text": [
      "Processed in 0.85 seconds\n",
      "Processing: helped to collect and send a leyland bus full of b...\n"
     ]
    },
    {
     "data": {
      "application/vnd.jupyter.widget-view+json": {
       "model_id": "8e3be6ca32b54076b2352b0f29cb0039",
       "version_major": 2,
       "version_minor": 0
      },
      "text/plain": [
       "Batches:   0%|          | 0/1 [00:00<?, ?it/s]"
      ]
     },
     "metadata": {},
     "output_type": "display_data"
    },
    {
     "name": "stderr",
     "output_type": "stream",
     "text": [
      "2025-04-27 23:50:43,439 - INFO - Retrieved 3 documents\n",
      "2025-04-27 23:50:46,810 - ERROR - Llama2 model error: Extra data: line 8 column 1 (char 155)\n",
      "2025-04-27 23:50:46,810 - INFO - Processing time: 3.37 seconds\n"
     ]
    },
    {
     "name": "stdout",
     "output_type": "stream",
     "text": [
      "Processed in 3.39 seconds\n",
      "Processing: tips on how you can help flood victims cope after ...\n"
     ]
    },
    {
     "data": {
      "application/vnd.jupyter.widget-view+json": {
       "model_id": "01ef81440fed44cf90d4e066e743b9f2",
       "version_major": 2,
       "version_minor": 0
      },
      "text/plain": [
       "Batches:   0%|          | 0/1 [00:00<?, ?it/s]"
      ]
     },
     "metadata": {},
     "output_type": "display_data"
    },
    {
     "name": "stderr",
     "output_type": "stream",
     "text": [
      "2025-04-27 23:50:46,827 - INFO - Retrieved 3 documents\n",
      "2025-04-27 23:50:47,670 - INFO - Processing time: 0.84 seconds\n"
     ]
    },
    {
     "name": "stdout",
     "output_type": "stream",
     "text": [
      "Processed in 0.86 seconds\n",
      "Processing: hurricane irma may bring significant storm surge t...\n"
     ]
    },
    {
     "data": {
      "application/vnd.jupyter.widget-view+json": {
       "model_id": "d89c833e65074f79a3a6572d2bb19191",
       "version_major": 2,
       "version_minor": 0
      },
      "text/plain": [
       "Batches:   0%|          | 0/1 [00:00<?, ?it/s]"
      ]
     },
     "metadata": {},
     "output_type": "display_data"
    },
    {
     "name": "stderr",
     "output_type": "stream",
     "text": [
      "2025-04-27 23:50:47,687 - INFO - Retrieved 3 documents\n",
      "2025-04-27 23:50:48,495 - INFO - Processing time: 0.81 seconds\n"
     ]
    },
    {
     "name": "stdout",
     "output_type": "stream",
     "text": [
      "Processed in 0.82 seconds\n",
      "Processing: houston refinery significantly underestimated amou...\n"
     ]
    },
    {
     "data": {
      "application/vnd.jupyter.widget-view+json": {
       "model_id": "e6e6d909596e4126b30ed5ef32c5945a",
       "version_major": 2,
       "version_minor": 0
      },
      "text/plain": [
       "Batches:   0%|          | 0/1 [00:00<?, ?it/s]"
      ]
     },
     "metadata": {},
     "output_type": "display_data"
    },
    {
     "name": "stderr",
     "output_type": "stream",
     "text": [
      "2025-04-27 23:50:48,513 - INFO - Retrieved 3 documents\n",
      "2025-04-27 23:50:49,352 - INFO - Processing time: 0.84 seconds\n"
     ]
    },
    {
     "name": "stdout",
     "output_type": "stream",
     "text": [
      "Processed in 0.86 seconds\n",
      "Processing: there are no reasons us citizens cannot be helped...\n"
     ]
    },
    {
     "data": {
      "application/vnd.jupyter.widget-view+json": {
       "model_id": "903b0c026b304c2482c4b178db1c76c0",
       "version_major": 2,
       "version_minor": 0
      },
      "text/plain": [
       "Batches:   0%|          | 0/1 [00:00<?, ?it/s]"
      ]
     },
     "metadata": {},
     "output_type": "display_data"
    },
    {
     "name": "stderr",
     "output_type": "stream",
     "text": [
      "2025-04-27 23:50:49,368 - INFO - Retrieved 3 documents\n",
      "2025-04-27 23:50:50,789 - ERROR - Llama2 model error: Extra data: line 8 column 1 (char 155)\n",
      "2025-04-27 23:50:50,790 - INFO - Processing time: 1.42 seconds\n"
     ]
    },
    {
     "name": "stdout",
     "output_type": "stream",
     "text": [
      "Processed in 1.44 seconds\n",
      "Processing: i named it #cylon mora fucker 7...\n"
     ]
    },
    {
     "data": {
      "application/vnd.jupyter.widget-view+json": {
       "model_id": "96a7f248b2a4454f9856e1e96eedc43f",
       "version_major": 2,
       "version_minor": 0
      },
      "text/plain": [
       "Batches:   0%|          | 0/1 [00:00<?, ?it/s]"
      ]
     },
     "metadata": {},
     "output_type": "display_data"
    },
    {
     "name": "stderr",
     "output_type": "stream",
     "text": [
      "2025-04-27 23:50:50,806 - INFO - Retrieved 3 documents\n",
      "2025-04-27 23:50:51,704 - INFO - Processing time: 0.90 seconds\n"
     ]
    },
    {
     "name": "stdout",
     "output_type": "stream",
     "text": [
      "Processed in 0.91 seconds\n",
      "Processing: big thanks to for sponsoring some of my silly draw...\n"
     ]
    },
    {
     "data": {
      "application/vnd.jupyter.widget-view+json": {
       "model_id": "799b9c21221944d6993758a1a9ce82df",
       "version_major": 2,
       "version_minor": 0
      },
      "text/plain": [
       "Batches:   0%|          | 0/1 [00:00<?, ?it/s]"
      ]
     },
     "metadata": {},
     "output_type": "display_data"
    },
    {
     "name": "stderr",
     "output_type": "stream",
     "text": [
      "2025-04-27 23:50:51,719 - INFO - Retrieved 3 documents\n",
      "2025-04-27 23:50:54,374 - ERROR - Llama2 model error: Extra data: line 8 column 1 (char 155)\n",
      "2025-04-27 23:50:54,374 - INFO - Processing time: 2.65 seconds\n"
     ]
    },
    {
     "name": "stdout",
     "output_type": "stream",
     "text": [
      "Processed in 2.67 seconds\n",
      "Processing: retweeted kate mora cant have enough khan on #bwba...\n"
     ]
    },
    {
     "data": {
      "application/vnd.jupyter.widget-view+json": {
       "model_id": "de625df66a5c497db45fba989f97fe07",
       "version_major": 2,
       "version_minor": 0
      },
      "text/plain": [
       "Batches:   0%|          | 0/1 [00:00<?, ?it/s]"
      ]
     },
     "metadata": {},
     "output_type": "display_data"
    },
    {
     "name": "stderr",
     "output_type": "stream",
     "text": [
      "2025-04-27 23:50:54,391 - INFO - Retrieved 3 documents\n",
      "2025-04-27 23:50:55,308 - INFO - Processing time: 0.92 seconds\n"
     ]
    },
    {
     "name": "stdout",
     "output_type": "stream",
     "text": [
      "Processed in 0.93 seconds\n",
      "Processing: sacramento business helping fire victims via...\n"
     ]
    },
    {
     "data": {
      "application/vnd.jupyter.widget-view+json": {
       "model_id": "eb5051c5e17d4306806a1e80f2362fe0",
       "version_major": 2,
       "version_minor": 0
      },
      "text/plain": [
       "Batches:   0%|          | 0/1 [00:00<?, ?it/s]"
      ]
     },
     "metadata": {},
     "output_type": "display_data"
    },
    {
     "name": "stderr",
     "output_type": "stream",
     "text": [
      "2025-04-27 23:50:55,323 - INFO - Retrieved 3 documents\n",
      "2025-04-27 23:50:56,809 - ERROR - Llama2 model error: Extra data: line 8 column 1 (char 155)\n",
      "2025-04-27 23:50:56,810 - INFO - Processing time: 1.49 seconds\n"
     ]
    },
    {
     "name": "stdout",
     "output_type": "stream",
     "text": [
      "Processed in 1.50 seconds\n",
      "Processing: why there is no magic formula to recovery after a ...\n"
     ]
    },
    {
     "data": {
      "application/vnd.jupyter.widget-view+json": {
       "model_id": "0a7a596e8b5743089545e29657d25721",
       "version_major": 2,
       "version_minor": 0
      },
      "text/plain": [
       "Batches:   0%|          | 0/1 [00:00<?, ?it/s]"
      ]
     },
     "metadata": {},
     "output_type": "display_data"
    },
    {
     "name": "stderr",
     "output_type": "stream",
     "text": [
      "2025-04-27 23:50:56,827 - INFO - Retrieved 3 documents\n",
      "2025-04-27 23:50:58,220 - ERROR - Llama2 model error: Extra data: line 8 column 1 (char 155)\n",
      "2025-04-27 23:50:58,220 - INFO - Processing time: 1.39 seconds\n"
     ]
    },
    {
     "name": "stdout",
     "output_type": "stream",
     "text": [
      "Processed in 1.41 seconds\n",
      "Processing: texas families fear their land has been poisoned w...\n"
     ]
    },
    {
     "data": {
      "application/vnd.jupyter.widget-view+json": {
       "model_id": "f54eb41be57246feabc46569d4f1d0f1",
       "version_major": 2,
       "version_minor": 0
      },
      "text/plain": [
       "Batches:   0%|          | 0/1 [00:00<?, ?it/s]"
      ]
     },
     "metadata": {},
     "output_type": "display_data"
    },
    {
     "name": "stderr",
     "output_type": "stream",
     "text": [
      "2025-04-27 23:50:58,236 - INFO - Retrieved 3 documents\n",
      "2025-04-27 23:50:59,202 - INFO - Processing time: 0.97 seconds\n"
     ]
    },
    {
     "name": "stdout",
     "output_type": "stream",
     "text": [
      "Processed in 0.98 seconds\n",
      "Processing: #santarosa #fire #mendocino ave from kaiser #hospi...\n"
     ]
    },
    {
     "data": {
      "application/vnd.jupyter.widget-view+json": {
       "model_id": "317bdf59579743a2975ef77cd98c99a0",
       "version_major": 2,
       "version_minor": 0
      },
      "text/plain": [
       "Batches:   0%|          | 0/1 [00:00<?, ?it/s]"
      ]
     },
     "metadata": {},
     "output_type": "display_data"
    },
    {
     "name": "stderr",
     "output_type": "stream",
     "text": [
      "2025-04-27 23:50:59,217 - INFO - Retrieved 3 documents\n",
      "2025-04-27 23:51:00,627 - ERROR - Llama2 model error: Extra data: line 8 column 1 (char 155)\n",
      "2025-04-27 23:51:00,627 - INFO - Processing time: 1.41 seconds\n"
     ]
    },
    {
     "name": "stdout",
     "output_type": "stream",
     "text": [
      "Processed in 1.42 seconds\n",
      "Processing: watch live vice president pence addresses puerto r...\n"
     ]
    },
    {
     "data": {
      "application/vnd.jupyter.widget-view+json": {
       "model_id": "ba5c613ee182422c899e318239f954b8",
       "version_major": 2,
       "version_minor": 0
      },
      "text/plain": [
       "Batches:   0%|          | 0/1 [00:00<?, ?it/s]"
      ]
     },
     "metadata": {},
     "output_type": "display_data"
    },
    {
     "name": "stderr",
     "output_type": "stream",
     "text": [
      "2025-04-27 23:51:00,643 - INFO - Retrieved 3 documents\n",
      "2025-04-27 23:51:02,017 - ERROR - Llama2 model error: Extra data: line 8 column 1 (char 155)\n",
      "2025-04-27 23:51:02,017 - INFO - Processing time: 1.37 seconds\n"
     ]
    },
    {
     "name": "stdout",
     "output_type": "stream",
     "text": [
      "Processed in 1.39 seconds\n",
      "Saved results to llama2_quantized_evaluation.csv\n",
      "\n",
      "Generating reports and plots...\n",
      "\n",
      "===== Disaster Type Classification Report =====\n",
      "              precision    recall  f1-score   support\n",
      "\n",
      "  earthquake       0.00      0.00      0.00        10\n",
      "       flood       0.00      0.00      0.00        10\n",
      "   hurricane       0.00      0.00      0.00        10\n",
      "       other       0.20      1.00      0.33        10\n",
      "    wildfire       0.00      0.00      0.00        10\n",
      "\n",
      "    accuracy                           0.20        50\n",
      "   macro avg       0.04      0.20      0.07        50\n",
      "weighted avg       0.04      0.20      0.07        50\n",
      "\n",
      "\n",
      "===== Distress Detection Classification Report =====\n",
      "              precision    recall  f1-score   support\n",
      "\n",
      "    distress       0.47      0.64      0.54        25\n",
      "not distress       0.44      0.28      0.34        25\n",
      "\n",
      "    accuracy                           0.46        50\n",
      "   macro avg       0.45      0.46      0.44        50\n",
      "weighted avg       0.45      0.46      0.44        50\n",
      "\n"
     ]
    },
    {
     "name": "stderr",
     "output_type": "stream",
     "text": [
      "C:\\Users\\TTB\\AppData\\Local\\Programs\\Python\\Python310\\lib\\site-packages\\sklearn\\metrics\\_classification.py:1565: UndefinedMetricWarning: Precision is ill-defined and being set to 0.0 in labels with no predicted samples. Use `zero_division` parameter to control this behavior.\n",
      "  _warn_prf(average, modifier, f\"{metric.capitalize()} is\", len(result))\n",
      "C:\\Users\\TTB\\AppData\\Local\\Programs\\Python\\Python310\\lib\\site-packages\\sklearn\\metrics\\_classification.py:1565: UndefinedMetricWarning: Precision is ill-defined and being set to 0.0 in labels with no predicted samples. Use `zero_division` parameter to control this behavior.\n",
      "  _warn_prf(average, modifier, f\"{metric.capitalize()} is\", len(result))\n",
      "C:\\Users\\TTB\\AppData\\Local\\Programs\\Python\\Python310\\lib\\site-packages\\sklearn\\metrics\\_classification.py:1565: UndefinedMetricWarning: Precision is ill-defined and being set to 0.0 in labels with no predicted samples. Use `zero_division` parameter to control this behavior.\n",
      "  _warn_prf(average, modifier, f\"{metric.capitalize()} is\", len(result))\n"
     ]
    },
    {
     "data": {
      "image/png": "[encoded data removed]",
      "text/plain": [
       "<Figure size 1200x500 with 2 Axes>"
      ]
     },
     "metadata": {},
     "output_type": "display_data"
    },
    {
     "data": {
      "image/png": "[encoded data removed]",
      "text/plain": [
       "<Figure size 600x500 with 2 Axes>"
      ]
     },
     "metadata": {},
     "output_type": "display_data"
    },
    {
     "data": {
      "image/png": "[encoded data removed]",
      "text/plain": [
       "<Figure size 800x600 with 1 Axes>"
      ]
     },
     "metadata": {},
     "output_type": "display_data"
    }
   ],
   "source": [
    "results_df = run_comprehensive_evaluation(rag_system, output_prefix=\"llama2_quantized_evaluation\")"
   ]
  },
  {
   "cell_type": "code",
   "execution_count": null,
   "id": "debfd065-d1a7-4b47-9518-e89cbe04aa47",
   "metadata": {},
   "outputs": [],
   "source": []
  }
 ],
 "metadata": {
  "kernelspec": {
   "display_name": "Python 3.10",
   "language": "python",
   "name": "python3.10"
  },
  "language_info": {
   "codemirror_mode": {
    "name": "ipython",
    "version": 3
   },
   "file_extension": ".py",
   "mimetype": "text/x-python",
   "name": "python",
   "nbconvert_exporter": "python",
   "pygments_lexer": "ipython3",
   "version": "3.10.11"
  }
 },
 "nbformat": 4,
 "nbformat_minor": 5
}
